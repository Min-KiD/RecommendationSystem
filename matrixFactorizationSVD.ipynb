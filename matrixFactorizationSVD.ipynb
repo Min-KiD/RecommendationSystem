{
 "cells": [
  {
   "cell_type": "markdown",
   "id": "20bbded4",
   "metadata": {
    "id": "MiyXynTpdlqg",
    "papermill": {
     "duration": 0.004817,
     "end_time": "2024-11-19T07:12:48.683991",
     "exception": false,
     "start_time": "2024-11-19T07:12:48.679174",
     "status": "completed"
    },
    "tags": []
   },
   "source": [
    "# Collaborative Filtering\n",
    "\n",
    "\n",
    "\n",
    "## Matrix Factorization"
   ]
  },
  {
   "cell_type": "code",
   "execution_count": 1,
   "id": "24cabc66",
   "metadata": {
    "execution": {
     "iopub.execute_input": "2024-11-19T07:12:48.693208Z",
     "iopub.status.busy": "2024-11-19T07:12:48.692944Z",
     "iopub.status.idle": "2024-11-19T07:12:56.438974Z",
     "shell.execute_reply": "2024-11-19T07:12:56.438250Z"
    },
    "id": "NkCmr8X6dlqh",
    "papermill": {
     "duration": 7.752826,
     "end_time": "2024-11-19T07:12:56.441015",
     "exception": false,
     "start_time": "2024-11-19T07:12:48.688189",
     "status": "completed"
    },
    "tags": []
   },
   "outputs": [],
   "source": [
    "import numpy as np\n",
    "import pandas as pd\n",
    "import time\n",
    "\n",
    "import pytorch_lightning as pl\n",
    "from sklearn.model_selection import train_test_split\n",
    "import torch\n",
    "from torch import nn\n",
    "import torch.multiprocessing\n",
    "import torch.nn.functional as F\n",
    "from torch.utils.data import DataLoader, Dataset\n",
    "\n",
    "torch.manual_seed(21)\n",
    "np.random.seed(21)"
   ]
  },
  {
   "cell_type": "code",
   "execution_count": 2,
   "id": "a47d627e",
   "metadata": {
    "execution": {
     "iopub.execute_input": "2024-11-19T07:12:56.451341Z",
     "iopub.status.busy": "2024-11-19T07:12:56.450904Z",
     "iopub.status.idle": "2024-11-19T07:12:57.548363Z",
     "shell.execute_reply": "2024-11-19T07:12:57.547664Z"
    },
    "papermill": {
     "duration": 1.104724,
     "end_time": "2024-11-19T07:12:57.550422",
     "exception": false,
     "start_time": "2024-11-19T07:12:56.445698",
     "status": "completed"
    },
    "tags": []
   },
   "outputs": [],
   "source": [
    "users = pd.read_csv('/kaggle/input/gamers/game_data_prepared/users.csv')\n",
    "ratings = pd.read_csv('/kaggle/input/gamers/game_data_prepared/ratings.csv')\n",
    "gamesF = pd.read_csv('/kaggle/input/gamers/game_data_prepared/games.csv')"
   ]
  },
  {
   "cell_type": "code",
   "execution_count": 3,
   "id": "08cc4bb0",
   "metadata": {
    "execution": {
     "iopub.execute_input": "2024-11-19T07:12:57.561462Z",
     "iopub.status.busy": "2024-11-19T07:12:57.561175Z",
     "iopub.status.idle": "2024-11-19T07:12:57.669276Z",
     "shell.execute_reply": "2024-11-19T07:12:57.668385Z"
    },
    "papermill": {
     "duration": 0.116221,
     "end_time": "2024-11-19T07:12:57.671209",
     "exception": false,
     "start_time": "2024-11-19T07:12:57.554988",
     "status": "completed"
    },
    "tags": []
   },
   "outputs": [],
   "source": [
    "from sklearn.model_selection import train_test_split\n",
    "train_ratings, test_ratings = train_test_split(\n",
    "    ratings, test_size=0.15, random_state=21\n",
    ")"
   ]
  },
  {
   "cell_type": "code",
   "execution_count": 4,
   "id": "01daf9b3",
   "metadata": {
    "execution": {
     "iopub.execute_input": "2024-11-19T07:12:57.681098Z",
     "iopub.status.busy": "2024-11-19T07:12:57.680800Z",
     "iopub.status.idle": "2024-11-19T07:12:57.705934Z",
     "shell.execute_reply": "2024-11-19T07:12:57.705068Z"
    },
    "papermill": {
     "duration": 0.031758,
     "end_time": "2024-11-19T07:12:57.707439",
     "exception": false,
     "start_time": "2024-11-19T07:12:57.675681",
     "status": "completed"
    },
    "tags": []
   },
   "outputs": [
    {
     "name": "stdout",
     "output_type": "stream",
     "text": [
      "There are 7639 users in test set.\n",
      "Total number of users: 7639\n"
     ]
    }
   ],
   "source": [
    "users_in_validation = train_ratings[\"user_id\"].unique()\n",
    "all_users = users[\"user_id\"].unique()\n",
    "\n",
    "print(f\"There are {len(users_in_validation)} users in test set.\")\n",
    "print(f\"Total number of users: {len(all_users)}\")"
   ]
  },
  {
   "cell_type": "code",
   "execution_count": 5,
   "id": "3990521e",
   "metadata": {
    "execution": {
     "iopub.execute_input": "2024-11-19T07:12:57.717356Z",
     "iopub.status.busy": "2024-11-19T07:12:57.717118Z",
     "iopub.status.idle": "2024-11-19T07:12:57.734179Z",
     "shell.execute_reply": "2024-11-19T07:12:57.733567Z"
    },
    "id": "IwJsEQq7dlqi",
    "papermill": {
     "duration": 0.023986,
     "end_time": "2024-11-19T07:12:57.735767",
     "exception": false,
     "start_time": "2024-11-19T07:12:57.711781",
     "status": "completed"
    },
    "tags": []
   },
   "outputs": [],
   "source": [
    "game_index_by_id = {id: idx for idx, id in enumerate(gamesF[\"app_id\"])}\n",
    "user_index_by_id = {id: idx for idx, id in enumerate(users[\"user_id\"])}\n",
    "\n",
    "class GameDataset(Dataset):\n",
    "    def __init__(self, ratings: pd.DataFrame):\n",
    "        self.ratings = ratings\n",
    "\n",
    "    def __len__(self):\n",
    "        return len(self.ratings)\n",
    "\n",
    "    def __getitem__(self, index):\n",
    "        user_id = self.ratings[\"user_id\"].iloc[index]\n",
    "        game_id = self.ratings[\"app_id\"].iloc[index]\n",
    "        rating = self.ratings[\"is_recommended\"].iloc[index]\n",
    "        user_index = user_index_by_id[user_id]\n",
    "        game_index = game_index_by_id[game_id]\n",
    "        \n",
    "        return user_index, game_index, rating\n",
    "\n",
    "training_data =GameDataset(train_ratings)\n",
    "test_data = GameDataset(test_ratings)\n",
    "batch_size = 1024*50\n",
    "train_dataloader = DataLoader(training_data, batch_size=batch_size, shuffle=True, num_workers=4, pin_memory=True, persistent_workers=True)\n",
    "test_dataloader = DataLoader(test_data, batch_size=batch_size, shuffle=False, num_workers=4, pin_memory=True)"
   ]
  },
  {
   "cell_type": "markdown",
   "id": "1f674d5e",
   "metadata": {
    "papermill": {
     "duration": 0.003906,
     "end_time": "2024-11-19T07:12:57.743853",
     "exception": false,
     "start_time": "2024-11-19T07:12:57.739947",
     "status": "completed"
    },
    "tags": []
   },
   "source": [
    "### SVD (Singular Value Decomposition) \n",
    "\n",
    "\n",
    "\n",
    "SVD is a matrix factorization technique where a user-item matrix is decomposed into lower-dimensional user and item matrices, which capture latent factors."
   ]
  },
  {
   "cell_type": "code",
   "execution_count": 6,
   "id": "a9497cc4",
   "metadata": {
    "execution": {
     "iopub.execute_input": "2024-11-19T07:12:57.753081Z",
     "iopub.status.busy": "2024-11-19T07:12:57.752809Z",
     "iopub.status.idle": "2024-11-19T07:12:57.760749Z",
     "shell.execute_reply": "2024-11-19T07:12:57.759949Z"
    },
    "id": "Rsq-LMoIdlqi",
    "papermill": {
     "duration": 0.014448,
     "end_time": "2024-11-19T07:12:57.762398",
     "exception": false,
     "start_time": "2024-11-19T07:12:57.747950",
     "status": "completed"
    },
    "tags": []
   },
   "outputs": [],
   "source": [
    "# import jdc\n",
    "LR = 1\n",
    "WEIGHT_DECAY = 5e-5\n",
    "\n",
    "class MatrixFactorizationSVD(pl.LightningModule):\n",
    "    \"\"\"\n",
    "    Attributes:\n",
    "        n_users: number of users.\n",
    "        n_items: number of items.\n",
    "        n_factors: number of latent factors (or embedding size)\n",
    "    \"\"\"\n",
    "    def __init__(self, n_users, n_items, n_factors = 50):\n",
    "        super().__init__()\n",
    "        self.n_users = n_users\n",
    "        self.n_items = n_items\n",
    "        self.n_factors = n_factors\n",
    "        self.user_biases = nn.Embedding(n_users, 1)\n",
    "        self.item_biases = nn.Embedding(n_items, 1)\n",
    "        self.bias = nn.Parameter(data=torch.rand(1))\n",
    "        self.user_embeddings = nn.Embedding(n_users, n_factors)\n",
    "        self.item_embeddings = nn.Embedding(n_items, n_factors)\n",
    "\n",
    "    def forward(self, users, items):\n",
    "        \"\"\"\n",
    "        For a single user and item, this looks like:\n",
    "        bias + user_bias + item_bias + user_embeddings.dot(item_embeddings)\n",
    "        \"\"\"\n",
    "        # select users and items from the batch\n",
    "        batch_user_embs = self.user_embeddings(users)\n",
    "        batch_item_embs = self.item_embeddings(items)\n",
    "\n",
    "        preds = torch.reshape(\n",
    "            torch.diag(\n",
    "                torch.matmul(batch_user_embs, torch.transpose(batch_item_embs, 0, 1))\n",
    "            ),\n",
    "            (-1, 1),\n",
    "        )\n",
    "        # add bias\n",
    "        preds += self.user_biases(users) + self.item_biases(items) + self.bias\n",
    "\n",
    "        return torch.clip(preds.squeeze(), min=0, max=1)\n",
    "\n",
    "    def training_step(self, batch, batch_idx):\n",
    "        users, items, rating = batch\n",
    "        rating = rating.to(torch.float32)\n",
    "        output = self.forward(users, items)\n",
    "        loss = F.mse_loss(rating, output)\n",
    "        self.log(\"batch_loss\", loss)\n",
    "\n",
    "        return {\"loss\": loss}\n",
    "        \n",
    "    def configure_optimizers(self):\n",
    "        optimizer = torch.optim.SGD(self.parameters(), lr=LR, weight_decay=WEIGHT_DECAY)\n",
    "\n",
    "        return optimizer"
   ]
  },
  {
   "cell_type": "code",
   "execution_count": 7,
   "id": "430f9a5c",
   "metadata": {
    "execution": {
     "iopub.execute_input": "2024-11-19T07:12:57.771403Z",
     "iopub.status.busy": "2024-11-19T07:12:57.771185Z",
     "iopub.status.idle": "2024-11-19T07:34:21.659459Z",
     "shell.execute_reply": "2024-11-19T07:34:21.658481Z"
    },
    "id": "E4BkthBpdlqj",
    "outputId": "bcbd0d12-e949-44c8-ad2d-a490f8c45430",
    "papermill": {
     "duration": 1283.894825,
     "end_time": "2024-11-19T07:34:21.661273",
     "exception": false,
     "start_time": "2024-11-19T07:12:57.766448",
     "status": "completed"
    },
    "tags": []
   },
   "outputs": [
    {
     "name": "stderr",
     "output_type": "stream",
     "text": [
      "/opt/conda/lib/python3.10/site-packages/pytorch_lightning/trainer/configuration_validator.py:68: You passed in a `val_dataloader` but have no `validation_step`. Skipping val loop.\n",
      "/opt/conda/lib/python3.10/multiprocessing/popen_fork.py:66: RuntimeWarning: os.fork() was called. os.fork() is incompatible with multithreaded code, and JAX is multithreaded, so this will likely lead to a deadlock.\n",
      "  self.pid = os.fork()\n",
      "/opt/conda/lib/python3.10/site-packages/pytorch_lightning/loops/fit_loop.py:298: The number of training batches (21) is smaller than the logging interval Trainer(log_every_n_steps=50). Set a lower value for log_every_n_steps if you want to see logs for the training epoch.\n"
     ]
    },
    {
     "data": {
      "application/vnd.jupyter.widget-view+json": {
       "model_id": "6e92df0adec4419287e9ff19a3639f50",
       "version_major": 2,
       "version_minor": 0
      },
      "text/plain": [
       "Training: |          | 0/? [00:00<?, ?it/s]"
      ]
     },
     "metadata": {},
     "output_type": "display_data"
    },
    {
     "name": "stderr",
     "output_type": "stream",
     "text": [
      "/opt/conda/lib/python3.10/multiprocessing/popen_fork.py:66: RuntimeWarning: os.fork() was called. os.fork() is incompatible with multithreaded code, and JAX is multithreaded, so this will likely lead to a deadlock.\n",
      "  self.pid = os.fork()\n"
     ]
    },
    {
     "name": "stdout",
     "output_type": "stream",
     "text": [
      "Execution Time: 1283.8801424503326 seconds\n"
     ]
    }
   ],
   "source": [
    "from pytorch_lightning.loggers import TensorBoardLogger\n",
    "\n",
    "logger = TensorBoardLogger(\"logs\", name=f\"lr{LR}_wd{WEIGHT_DECAY}\")\n",
    "start_time = time.time()\n",
    "\n",
    "n_users = len(user_index_by_id)\n",
    "n_games = len(game_index_by_id)\n",
    "n_factors = 80\n",
    "model = MatrixFactorizationSVD(n_users=n_users, n_items=n_games, n_factors=n_factors)\n",
    "trainer = pl.Trainer(devices=1, accelerator=\"gpu\", max_epochs=100, logger=logger)\n",
    "trainer.fit(model, train_dataloader, test_dataloader)\n",
    "\n",
    "end_time = time.time()\n",
    "\n",
    "exe_time = end_time - start_time\n",
    "print(\"Execution Time:\", exe_time, \"seconds\")"
   ]
  },
  {
   "cell_type": "code",
   "execution_count": 8,
   "id": "4965c2ec",
   "metadata": {
    "execution": {
     "iopub.execute_input": "2024-11-19T07:34:21.672170Z",
     "iopub.status.busy": "2024-11-19T07:34:21.671896Z",
     "iopub.status.idle": "2024-11-19T07:38:59.113564Z",
     "shell.execute_reply": "2024-11-19T07:38:59.112298Z"
    },
    "id": "GOKLlUtudlqj",
    "outputId": "c3f82bbb-05dd-459e-9835-8797c0426185",
    "papermill": {
     "duration": 277.453606,
     "end_time": "2024-11-19T07:38:59.119743",
     "exception": false,
     "start_time": "2024-11-19T07:34:21.666137",
     "status": "completed"
    },
    "tags": []
   },
   "outputs": [
    {
     "name": "stdout",
     "output_type": "stream",
     "text": [
      "Train RMSE: 0.498\n",
      "Validation RMSE: 0.499\n"
     ]
    }
   ],
   "source": [
    "def eval_model(model, train_dataloader):\n",
    "    loss = 0\n",
    "    for users, items, rating in train_dataloader:\n",
    "        pred = model(users, items)\n",
    "        loss += F.mse_loss(pred, rating)\n",
    "    RMSE = (loss / len(train_dataloader))**.5\n",
    "    \n",
    "    return RMSE\n",
    "\n",
    "print(\"Train RMSE: {:.3f}\".format(eval_model(model, train_dataloader)))\n",
    "print(\"Validation RMSE: {:.3f}\".format(eval_model(model, test_dataloader)))"
   ]
  },
  {
   "cell_type": "code",
   "execution_count": null,
   "id": "a2ac2291",
   "metadata": {
    "papermill": {
     "duration": null,
     "end_time": null,
     "exception": null,
     "start_time": null,
     "status": "pending"
    },
    "tags": []
   },
   "outputs": [],
   "source": []
  }
 ],
 "metadata": {
  "accelerator": "GPU",
  "colab": {
   "gpuType": "T4",
   "provenance": []
  },
  "kaggle": {
   "accelerator": "gpu",
   "dataSources": [
    {
     "datasetId": 2871694,
     "sourceId": 9172942,
     "sourceType": "datasetVersion"
    },
    {
     "datasetId": 6084510,
     "sourceId": 9948410,
     "sourceType": "datasetVersion"
    }
   ],
   "dockerImageVersionId": 30787,
   "isGpuEnabled": true,
   "isInternetEnabled": true,
   "language": "python",
   "sourceType": "notebook"
  },
  "kernelspec": {
   "display_name": "Python 3",
   "language": "python",
   "name": "python3"
  },
  "language_info": {
   "codemirror_mode": {
    "name": "ipython",
    "version": 3
   },
   "file_extension": ".py",
   "mimetype": "text/x-python",
   "name": "python",
   "nbconvert_exporter": "python",
   "pygments_lexer": "ipython3",
   "version": "3.10.14"
  },
  "papermill": {
   "default_parameters": {},
   "duration": 1575.727131,
   "end_time": "2024-11-19T07:39:02.008905",
   "environment_variables": {},
   "exception": true,
   "input_path": "__notebook__.ipynb",
   "output_path": "__notebook__.ipynb",
   "parameters": {},
   "start_time": "2024-11-19T07:12:46.281774",
   "version": "2.6.0"
  },
  "widgets": {
   "application/vnd.jupyter.widget-state+json": {
    "state": {
     "41aaebd7a7e64e5cb293aeee48113f24": {
      "model_module": "@jupyter-widgets/base",
      "model_module_version": "1.2.0",
      "model_name": "LayoutModel",
      "state": {
       "_model_module": "@jupyter-widgets/base",
       "_model_module_version": "1.2.0",
       "_model_name": "LayoutModel",
       "_view_count": null,
       "_view_module": "@jupyter-widgets/base",
       "_view_module_version": "1.2.0",
       "_view_name": "LayoutView",
       "align_content": null,
       "align_items": null,
       "align_self": null,
       "border": null,
       "bottom": null,
       "display": "inline-flex",
       "flex": null,
       "flex_flow": "row wrap",
       "grid_area": null,
       "grid_auto_columns": null,
       "grid_auto_flow": null,
       "grid_auto_rows": null,
       "grid_column": null,
       "grid_gap": null,
       "grid_row": null,
       "grid_template_areas": null,
       "grid_template_columns": null,
       "grid_template_rows": null,
       "height": null,
       "justify_content": null,
       "justify_items": null,
       "left": null,
       "margin": null,
       "max_height": null,
       "max_width": null,
       "min_height": null,
       "min_width": null,
       "object_fit": null,
       "object_position": null,
       "order": null,
       "overflow": null,
       "overflow_x": null,
       "overflow_y": null,
       "padding": null,
       "right": null,
       "top": null,
       "visibility": null,
       "width": "100%"
      }
     },
     "509957c1d0904039ac13a44034f43084": {
      "model_module": "@jupyter-widgets/base",
      "model_module_version": "1.2.0",
      "model_name": "LayoutModel",
      "state": {
       "_model_module": "@jupyter-widgets/base",
       "_model_module_version": "1.2.0",
       "_model_name": "LayoutModel",
       "_view_count": null,
       "_view_module": "@jupyter-widgets/base",
       "_view_module_version": "1.2.0",
       "_view_name": "LayoutView",
       "align_content": null,
       "align_items": null,
       "align_self": null,
       "border": null,
       "bottom": null,
       "display": null,
       "flex": null,
       "flex_flow": null,
       "grid_area": null,
       "grid_auto_columns": null,
       "grid_auto_flow": null,
       "grid_auto_rows": null,
       "grid_column": null,
       "grid_gap": null,
       "grid_row": null,
       "grid_template_areas": null,
       "grid_template_columns": null,
       "grid_template_rows": null,
       "height": null,
       "justify_content": null,
       "justify_items": null,
       "left": null,
       "margin": null,
       "max_height": null,
       "max_width": null,
       "min_height": null,
       "min_width": null,
       "object_fit": null,
       "object_position": null,
       "order": null,
       "overflow": null,
       "overflow_x": null,
       "overflow_y": null,
       "padding": null,
       "right": null,
       "top": null,
       "visibility": null,
       "width": null
      }
     },
     "5104569b5f194b8c8f6674e5ec56eac8": {
      "model_module": "@jupyter-widgets/base",
      "model_module_version": "1.2.0",
      "model_name": "LayoutModel",
      "state": {
       "_model_module": "@jupyter-widgets/base",
       "_model_module_version": "1.2.0",
       "_model_name": "LayoutModel",
       "_view_count": null,
       "_view_module": "@jupyter-widgets/base",
       "_view_module_version": "1.2.0",
       "_view_name": "LayoutView",
       "align_content": null,
       "align_items": null,
       "align_self": null,
       "border": null,
       "bottom": null,
       "display": null,
       "flex": null,
       "flex_flow": null,
       "grid_area": null,
       "grid_auto_columns": null,
       "grid_auto_flow": null,
       "grid_auto_rows": null,
       "grid_column": null,
       "grid_gap": null,
       "grid_row": null,
       "grid_template_areas": null,
       "grid_template_columns": null,
       "grid_template_rows": null,
       "height": null,
       "justify_content": null,
       "justify_items": null,
       "left": null,
       "margin": null,
       "max_height": null,
       "max_width": null,
       "min_height": null,
       "min_width": null,
       "object_fit": null,
       "object_position": null,
       "order": null,
       "overflow": null,
       "overflow_x": null,
       "overflow_y": null,
       "padding": null,
       "right": null,
       "top": null,
       "visibility": null,
       "width": null
      }
     },
     "5d2c1c2e5df54f67b3158ded457e5e82": {
      "model_module": "@jupyter-widgets/controls",
      "model_module_version": "1.5.0",
      "model_name": "FloatProgressModel",
      "state": {
       "_dom_classes": [],
       "_model_module": "@jupyter-widgets/controls",
       "_model_module_version": "1.5.0",
       "_model_name": "FloatProgressModel",
       "_view_count": null,
       "_view_module": "@jupyter-widgets/controls",
       "_view_module_version": "1.5.0",
       "_view_name": "ProgressView",
       "bar_style": "success",
       "description": "",
       "description_tooltip": null,
       "layout": "IPY_MODEL_896415f6236341cb9edf3f9ae9142f7f",
       "max": 21,
       "min": 0,
       "orientation": "horizontal",
       "style": "IPY_MODEL_7e9f4ab011d048bdad86e4ea4dc7d82f",
       "value": 21
      }
     },
     "6e92df0adec4419287e9ff19a3639f50": {
      "model_module": "@jupyter-widgets/controls",
      "model_module_version": "1.5.0",
      "model_name": "HBoxModel",
      "state": {
       "_dom_classes": [],
       "_model_module": "@jupyter-widgets/controls",
       "_model_module_version": "1.5.0",
       "_model_name": "HBoxModel",
       "_view_count": null,
       "_view_module": "@jupyter-widgets/controls",
       "_view_module_version": "1.5.0",
       "_view_name": "HBoxView",
       "box_style": "",
       "children": [
        "IPY_MODEL_ff5be8e8527b4b2693d58007a5b722a0",
        "IPY_MODEL_5d2c1c2e5df54f67b3158ded457e5e82",
        "IPY_MODEL_e3c8529e91624e99bca02f5a1b6587aa"
       ],
       "layout": "IPY_MODEL_41aaebd7a7e64e5cb293aeee48113f24"
      }
     },
     "7e9f4ab011d048bdad86e4ea4dc7d82f": {
      "model_module": "@jupyter-widgets/controls",
      "model_module_version": "1.5.0",
      "model_name": "ProgressStyleModel",
      "state": {
       "_model_module": "@jupyter-widgets/controls",
       "_model_module_version": "1.5.0",
       "_model_name": "ProgressStyleModel",
       "_view_count": null,
       "_view_module": "@jupyter-widgets/base",
       "_view_module_version": "1.2.0",
       "_view_name": "StyleView",
       "bar_color": null,
       "description_width": ""
      }
     },
     "896415f6236341cb9edf3f9ae9142f7f": {
      "model_module": "@jupyter-widgets/base",
      "model_module_version": "1.2.0",
      "model_name": "LayoutModel",
      "state": {
       "_model_module": "@jupyter-widgets/base",
       "_model_module_version": "1.2.0",
       "_model_name": "LayoutModel",
       "_view_count": null,
       "_view_module": "@jupyter-widgets/base",
       "_view_module_version": "1.2.0",
       "_view_name": "LayoutView",
       "align_content": null,
       "align_items": null,
       "align_self": null,
       "border": null,
       "bottom": null,
       "display": null,
       "flex": "2",
       "flex_flow": null,
       "grid_area": null,
       "grid_auto_columns": null,
       "grid_auto_flow": null,
       "grid_auto_rows": null,
       "grid_column": null,
       "grid_gap": null,
       "grid_row": null,
       "grid_template_areas": null,
       "grid_template_columns": null,
       "grid_template_rows": null,
       "height": null,
       "justify_content": null,
       "justify_items": null,
       "left": null,
       "margin": null,
       "max_height": null,
       "max_width": null,
       "min_height": null,
       "min_width": null,
       "object_fit": null,
       "object_position": null,
       "order": null,
       "overflow": null,
       "overflow_x": null,
       "overflow_y": null,
       "padding": null,
       "right": null,
       "top": null,
       "visibility": null,
       "width": null
      }
     },
     "a045f77288ee4eabadf4fa35377248a0": {
      "model_module": "@jupyter-widgets/controls",
      "model_module_version": "1.5.0",
      "model_name": "DescriptionStyleModel",
      "state": {
       "_model_module": "@jupyter-widgets/controls",
       "_model_module_version": "1.5.0",
       "_model_name": "DescriptionStyleModel",
       "_view_count": null,
       "_view_module": "@jupyter-widgets/base",
       "_view_module_version": "1.2.0",
       "_view_name": "StyleView",
       "description_width": ""
      }
     },
     "af191ffe824e4f91a555018e782022fe": {
      "model_module": "@jupyter-widgets/controls",
      "model_module_version": "1.5.0",
      "model_name": "DescriptionStyleModel",
      "state": {
       "_model_module": "@jupyter-widgets/controls",
       "_model_module_version": "1.5.0",
       "_model_name": "DescriptionStyleModel",
       "_view_count": null,
       "_view_module": "@jupyter-widgets/base",
       "_view_module_version": "1.2.0",
       "_view_name": "StyleView",
       "description_width": ""
      }
     },
     "e3c8529e91624e99bca02f5a1b6587aa": {
      "model_module": "@jupyter-widgets/controls",
      "model_module_version": "1.5.0",
      "model_name": "HTMLModel",
      "state": {
       "_dom_classes": [],
       "_model_module": "@jupyter-widgets/controls",
       "_model_module_version": "1.5.0",
       "_model_name": "HTMLModel",
       "_view_count": null,
       "_view_module": "@jupyter-widgets/controls",
       "_view_module_version": "1.5.0",
       "_view_name": "HTMLView",
       "description": "",
       "description_tooltip": null,
       "layout": "IPY_MODEL_509957c1d0904039ac13a44034f43084",
       "placeholder": "​",
       "style": "IPY_MODEL_a045f77288ee4eabadf4fa35377248a0",
       "value": " 21/21 [00:12&lt;00:00,  1.69it/s, v_num=0]"
      }
     },
     "ff5be8e8527b4b2693d58007a5b722a0": {
      "model_module": "@jupyter-widgets/controls",
      "model_module_version": "1.5.0",
      "model_name": "HTMLModel",
      "state": {
       "_dom_classes": [],
       "_model_module": "@jupyter-widgets/controls",
       "_model_module_version": "1.5.0",
       "_model_name": "HTMLModel",
       "_view_count": null,
       "_view_module": "@jupyter-widgets/controls",
       "_view_module_version": "1.5.0",
       "_view_name": "HTMLView",
       "description": "",
       "description_tooltip": null,
       "layout": "IPY_MODEL_5104569b5f194b8c8f6674e5ec56eac8",
       "placeholder": "​",
       "style": "IPY_MODEL_af191ffe824e4f91a555018e782022fe",
       "value": "Epoch 99: 100%"
      }
     }
    },
    "version_major": 2,
    "version_minor": 0
   }
  }
 },
 "nbformat": 4,
 "nbformat_minor": 5
}
