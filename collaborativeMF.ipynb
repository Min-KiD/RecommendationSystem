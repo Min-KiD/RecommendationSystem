{
  "cells": [
    {
      "cell_type": "markdown",
      "metadata": {
        "id": "MiyXynTpdlqg"
      },
      "source": [
        "# Collaborative Filtering\n",
        "\n",
        "## Matrix Factorization"
      ]
    },
    {
      "cell_type": "code",
      "execution_count": 3,
      "metadata": {
        "id": "NkCmr8X6dlqh"
      },
      "outputs": [],
      "source": [
        "import numpy as np\n",
        "import pandas as pd\n",
        "\n",
        "import pytorch_lightning as pl\n",
        "from sklearn.model_selection import train_test_split\n",
        "import torch\n",
        "from torch import nn\n",
        "import torch.multiprocessing\n",
        "import torch.nn.functional as F\n",
        "from torch.utils.data import DataLoader, Dataset\n",
        "\n",
        "torch.manual_seed(21)\n",
        "np.random.seed(21)\n",
        "\n",
        "ratings = pd.read_csv('/content/ml-1m/ratings.dat', delimiter='::', engine='python', names=['userId', 'movieId', 'rating', 'timestamp'])\n",
        "users = pd.read_csv('/content/ml-1m/users.dat', delimiter='::', engine='python', names=['userId', 'gender', 'age', 'occupation', 'zip-code'])\n",
        "movies = pd.read_csv('/content/ml-1m/movies.dat', delimiter='::', engine='python', names=['movieId', 'title', 'genres'], encoding='ISO-8859-1')"
      ]
    },
    {
      "cell_type": "code",
      "execution_count": 4,
      "metadata": {
        "id": "lmqjQJpWdlqi"
      },
      "outputs": [],
      "source": [
        "ratings[\"rating\"] = ratings[\"rating\"] - 3 # make range(-2, 2) for opt process\n",
        "\n",
        "train_ratings, test_ratings = train_test_split(\n",
        "    ratings, test_size=0.15, random_state=21\n",
        ")"
      ]
    },
    {
      "cell_type": "code",
      "execution_count": 10,
      "metadata": {
        "id": "IwJsEQq7dlqi"
      },
      "outputs": [],
      "source": [
        "movie_index_by_id = {id: idx for idx, id in enumerate(movies[\"movieId\"])}\n",
        "user_index_by_id = {id: idx for idx, id in enumerate(users[\"userId\"])}\n",
        "\n",
        "\n",
        "class MLDataset(Dataset):\n",
        "    def __init__(self, ratings: pd.DataFrame):\n",
        "        self.ratings = ratings\n",
        "\n",
        "    def __len__(self):\n",
        "        return len(self.ratings)\n",
        "\n",
        "    def __getitem__(self, index):\n",
        "        user_id = self.ratings[\"userId\"].iloc[index]\n",
        "        movie_id = self.ratings[\"movieId\"].iloc[index]\n",
        "        rating = self.ratings[\"rating\"].iloc[index]\n",
        "        user_index = user_index_by_id[user_id]\n",
        "        movie_index = movie_index_by_id[movie_id]\n",
        "        return user_index, movie_index, rating\n",
        "\n",
        "\n",
        "training_data = MLDataset(train_ratings)\n",
        "test_data = MLDataset(test_ratings)\n",
        "batch_size = 1024\n",
        "train_dataloader = DataLoader(training_data, batch_size=batch_size, shuffle=True, num_workers=2, persistent_workers=True)\n",
        "test_dataloader = DataLoader(test_data, batch_size=batch_size, shuffle=False, num_workers=2)"
      ]
    },
    {
      "cell_type": "markdown",
      "metadata": {},
      "source": [
        "### SVD (Singular Value Decomposition) \n",
        "\n",
        "SVD is a matrix factorization technique where a user-item matrix is decomposed into lower-dimensional user and item matrices, which capture latent factors."
      ]
    },
    {
      "cell_type": "code",
      "execution_count": 11,
      "metadata": {
        "id": "Rsq-LMoIdlqi"
      },
      "outputs": [],
      "source": [
        "# import jdc\n",
        "\n",
        "LR = 1\n",
        "WEIGHT_DECAY = 5e-5\n",
        "\n",
        "class MatrixFactorizationSVD(pl.LightningModule):\n",
        "    \"\"\"\n",
        "    Attributes:\n",
        "        n_users: number of users.\n",
        "        n_items: number of items.\n",
        "        n_factors: number of latent factors (or embedding size)\n",
        "    \"\"\"\n",
        "\n",
        "    def __init__(self, n_users, n_items, n_factors = 50):\n",
        "        super().__init__()\n",
        "        self.n_users = n_users\n",
        "        self.n_items = n_items\n",
        "        self.n_factors = n_factors\n",
        "        self.user_biases = nn.Embedding(n_users, 1)\n",
        "        self.item_biases = nn.Embedding(n_items, 1)\n",
        "        self.bias = nn.Parameter(data=torch.rand(1))\n",
        "        self.user_embeddings = nn.Embedding(n_users, n_factors)\n",
        "        self.item_embeddings = nn.Embedding(n_items, n_factors)\n",
        "\n",
        "    def forward(self, users, items):\n",
        "        \"\"\"\n",
        "        For a single user and item, this looks like:\n",
        "        bias + user_bias + item_bias + user_embeddings.dot(item_embeddings)\n",
        "        \"\"\"\n",
        "        # select users and items from the batch\n",
        "        batch_user_embs = self.user_embeddings(users)\n",
        "        batch_item_embs = self.item_embeddings(items)\n",
        "\n",
        "        preds = torch.reshape(\n",
        "            torch.diag(\n",
        "                torch.matmul(batch_user_embs, torch.transpose(batch_item_embs, 0, 1))\n",
        "            ),\n",
        "            (-1, 1),\n",
        "        )\n",
        "        # add bias\n",
        "        preds += self.user_biases(users) + self.item_biases(items) + self.bias\n",
        "\n",
        "        return torch.clip(preds.squeeze(), min=-2, max=2)\n",
        "\n",
        "    def training_step(self, batch, batch_idx):\n",
        "        users, items, rating = batch\n",
        "        rating = rating.to(torch.float32)\n",
        "        output = self.forward(users, items)\n",
        "        loss = F.mse_loss(rating, output)\n",
        "        self.log(\"batch_loss\", loss)\n",
        "        return {\"loss\": loss}\n",
        "\n",
        "    def configure_optimizers(self):\n",
        "        optimizer = torch.optim.SGD(self.parameters(), lr=LR, weight_decay=WEIGHT_DECAY)\n",
        "        return optimizer"
      ]
    },
    {
      "cell_type": "code",
      "execution_count": 12,
      "metadata": {
        "colab": {
          "base_uri": "https://localhost:8080/",
          "height": 444,
          "referenced_widgets": [
            "1bf454c086e746b98c4d53884ccdf298",
            "6b4f5d86e81f462a9efb459d19e1b7ba",
            "bab4444e2ce94551b12647642955b934",
            "ecb62f00fee44d6fba0cac989b339730",
            "a486ab6847c447279f78d9b6b58c880d",
            "fa0a8df978ad476e9de1e4abfae18085",
            "0fe14e1823e54837948a8d811a2b3963",
            "e6a4732f72cb441f8485c51887146743",
            "4bf1631af5984d49aeefb06ec20bddd7",
            "5fe34af3ee1a440ba9f0078ea535df89",
            "f967c2b3e6e7402bbb73351a60da2f3f"
          ]
        },
        "id": "E4BkthBpdlqj",
        "outputId": "bcbd0d12-e949-44c8-ad2d-a490f8c45430"
      },
      "outputs": [
        {
          "name": "stderr",
          "output_type": "stream",
          "text": [
            "INFO:pytorch_lightning.utilities.rank_zero:GPU available: True (cuda), used: True\n",
            "INFO:pytorch_lightning.utilities.rank_zero:TPU available: False, using: 0 TPU cores\n",
            "INFO:pytorch_lightning.utilities.rank_zero:HPU available: False, using: 0 HPUs\n",
            "/usr/local/lib/python3.10/dist-packages/pytorch_lightning/trainer/configuration_validator.py:68: You passed in a `val_dataloader` but have no `validation_step`. Skipping val loop.\n",
            "INFO:pytorch_lightning.accelerators.cuda:LOCAL_RANK: 0 - CUDA_VISIBLE_DEVICES: [0]\n",
            "INFO:pytorch_lightning.callbacks.model_summary:\n",
            "  | Name            | Type      | Params | Mode \n",
            "------------------------------------------------------\n",
            "0 | user_biases     | Embedding | 6.0 K  | train\n",
            "1 | item_biases     | Embedding | 3.9 K  | train\n",
            "2 | user_embeddings | Embedding | 302 K  | train\n",
            "3 | item_embeddings | Embedding | 194 K  | train\n",
            "  | other params    | n/a       | 1      | n/a  \n",
            "------------------------------------------------------\n",
            "506 K     Trainable params\n",
            "0         Non-trainable params\n",
            "506 K     Total params\n",
            "2.024     Total estimated model params size (MB)\n",
            "4         Modules in train mode\n",
            "0         Modules in eval mode\n"
          ]
        },
        {
          "data": {
            "application/vnd.jupyter.widget-view+json": {
              "model_id": "1bf454c086e746b98c4d53884ccdf298",
              "version_major": 2,
              "version_minor": 0
            },
            "text/plain": [
              "Training: |          | 0/? [00:00<?, ?it/s]"
            ]
          },
          "metadata": {},
          "output_type": "display_data"
        },
        {
          "name": "stderr",
          "output_type": "stream",
          "text": [
            "INFO:pytorch_lightning.utilities.rank_zero:`Trainer.fit` stopped: `max_epochs=100` reached.\n"
          ]
        }
      ],
      "source": [
        "from pytorch_lightning.loggers import TensorBoardLogger\n",
        "logger = TensorBoardLogger(\"logs\", name=f\"lr{LR}_wd{WEIGHT_DECAY}\")\n",
        "\n",
        "n_users = len(user_index_by_id)\n",
        "n_movies = len(movie_index_by_id)\n",
        "n_factors = 50\n",
        "model = MatrixFactorizationSVD(n_users=n_users, n_items=n_movies, n_factors=n_factors)\n",
        "trainer = pl.Trainer(devices=1, accelerator=\"gpu\", max_epochs=100, logger=logger)\n",
        "trainer.fit(model, train_dataloader, test_dataloader)"
      ]
    },
    {
      "cell_type": "code",
      "execution_count": 13,
      "metadata": {
        "colab": {
          "base_uri": "https://localhost:8080/"
        },
        "id": "GOKLlUtudlqj",
        "outputId": "c3f82bbb-05dd-459e-9835-8797c0426185"
      },
      "outputs": [
        {
          "name": "stdout",
          "output_type": "stream",
          "text": [
            "Train RMSE: 0.817\n",
            "Validation RMSE: 0.911\n"
          ]
        }
      ],
      "source": [
        "def eval_model(model, train_dataloader):\n",
        "    loss = 0\n",
        "    for users, items, rating in train_dataloader:\n",
        "        pred = model(users, items)\n",
        "        loss += F.mse_loss(pred, rating)\n",
        "    RMSE = (loss / len(train_dataloader))**.5\n",
        "    return RMSE\n",
        "\n",
        "print(\"Train RMSE: {:.3f}\".format(eval_model(model, train_dataloader)))\n",
        "print(\"Validation RMSE: {:.3f}\".format(eval_model(model, test_dataloader)))"
      ]
    },
    {
      "cell_type": "markdown",
      "metadata": {},
      "source": [
        "### Alternating Least Squares (ALS)\n",
        "\n",
        "ALS uses a different technique to solve the optimization problem: it alternates between updating the user and item embeddings while keeping the other fixed. In each step, it minimizes the squared error\n",
        "\n",
        "Instead of updating all parameters simultaneously (as in SVD), ALS alternates between fixing one set of embeddings (user or item) and updating the other"
      ]
    },
    {
      "cell_type": "code",
      "execution_count": null,
      "metadata": {
        "id": "T1ZKyLw5dlqj"
      },
      "outputs": [],
      "source": [
        "class MatrixFactorizationALS(pl.LightningModule):\n",
        "    def __init__(self, n_users, n_items, n_factors=50, reg=0.01):\n",
        "        super().__init__()\n",
        "        self.n_users = n_users\n",
        "        self.n_items = n_items\n",
        "        self.n_factors = n_factors\n",
        "        self.reg = reg  # Regularization term \n",
        "        self.user_embeddings = nn.Embedding(n_users, n_factors)\n",
        "        self.item_embeddings = nn.Embedding(n_items, n_factors)\n",
        "        torch.nn.init.xavier_normal_(self.user_embeddings.weight)\n",
        "        torch.nn.init.xavier_normal_(self.item_embeddings.weight)\n",
        "\n",
        "    def forward(self, users, items):\n",
        "        batch_user_embs = self.user_embeddings(users)\n",
        "        batch_item_embs = self.item_embeddings(items)\n",
        "\n",
        "        preds = torch.sum(batch_user_embs * batch_item_embs, dim=1) # Dot product of user and item embeddings\n",
        "        return preds\n",
        "\n",
        "    def training_step(self, batch, batch_idx):\n",
        "        users, items, rating = batch\n",
        "        rating = rating.to(torch.float32)\n",
        "        self.update_item_embeddings(users, items, rating)\n",
        "        self.update_user_embeddings(users, items, rating)\n",
        "        output = self.forward(users, items)\n",
        "        loss = F.mse_loss(output, rating)\n",
        "        self.log(\"train_loss\", loss)\n",
        "        return {\"loss\": loss}\n",
        "\n",
        "    def update_user_embeddings(self, batch_users, batch_items, ratings):\n",
        "        # Update users while keeping items fixed\n",
        "        items_emb = self.item_embeddings(batch_items)\n",
        "        # Least squares problem for users\n",
        "        for user in torch.unique(batch_users):\n",
        "            user_idx = batch_users == user\n",
        "            X_item = items_emb[user_idx]  # Fix item embeddings\n",
        "            y_rating = ratings[user_idx]\n",
        "            A = X_item.t().matmul(X_item) + self.reg * torch.eye(self.n_factors).to(self.device)\n",
        "            b = X_item.t().matmul(y_rating)\n",
        "            user_emb = torch.linalg.solve(A, b)  # Update user embedding\n",
        "            self.user_embeddings.weight.data[user] = user_emb\n",
        "\n",
        "    def update_item_embeddings(self, batch_users, batch_items, ratings):\n",
        "        # Update items while keeping users fixed\n",
        "        users_emb = self.user_embeddings(batch_users)\n",
        "        # Least squares problem for items\n",
        "        for item in torch.unique(batch_items):\n",
        "            item_idx = batch_items == item\n",
        "            X_user = users_emb[item_idx]  # Fix user embeddings\n",
        "            y_rating = ratings[item_idx]\n",
        "            A = X_user.t().matmul(X_user) + self.reg * torch.eye(self.n_factors).to(self.device)\n",
        "            b = X_user.t().matmul(y_rating)\n",
        "            item_emb = torch.linalg.solve(A, b)  # Update item embedding\n",
        "            self.item_embeddings.weight.data[item] = item_emb\n",
        "\n",
        "    def configure_optimizers(self):\n",
        "        return None"
      ]
    },
    {
      "cell_type": "code",
      "execution_count": null,
      "metadata": {
        "id": "l88051wqdlqj"
      },
      "outputs": [],
      "source": [
        "from pytorch_lightning.loggers import TensorBoardLogger\n",
        "logger = TensorBoardLogger(\"logs\", name=f\"lr{LR}_wd{WEIGHT_DECAY}\")\n",
        "\n",
        "n_users = len(user_index_by_id)\n",
        "n_movies = len(movie_index_by_id)\n",
        "n_factors = 50\n",
        "model = MatrixFactorizationSVD(n_users=n_users, n_items=n_movies, n_factors=n_factors)\n",
        "trainer = pl.Trainer(devices=1, accelerator=\"gpu\", max_epochs=100, logger=logger)\n",
        "trainer.fit(model, train_dataloader, test_dataloader)"
      ]
    },
    {
      "cell_type": "code",
      "execution_count": null,
      "metadata": {},
      "outputs": [],
      "source": [
        "def eval_model(model, train_dataloader):\n",
        "    loss = 0\n",
        "    for users, items, rating in train_dataloader:\n",
        "        pred = model(users, items)\n",
        "        loss += F.mse_loss(pred, rating)\n",
        "    RMSE = (loss / len(train_dataloader))**.5\n",
        "    return RMSE\n",
        "\n",
        "print(\"Train RMSE: {:.3f}\".format(eval_model(model, train_dataloader)))\n",
        "print(\"Validation RMSE: {:.3f}\".format(eval_model(model, test_dataloader)))"
      ]
    }
  ],
  "metadata": {
    "accelerator": "GPU",
    "colab": {
      "gpuType": "T4",
      "provenance": []
    },
    "kernelspec": {
      "display_name": "Python 3",
      "name": "python3"
    },
    "language_info": {
      "codemirror_mode": {
        "name": "ipython",
        "version": 3
      },
      "file_extension": ".py",
      "mimetype": "text/x-python",
      "name": "python",
      "nbconvert_exporter": "python",
      "pygments_lexer": "ipython3",
      "version": "3.11.9"
    },
    "widgets": {
      "application/vnd.jupyter.widget-state+json": {
        "0fe14e1823e54837948a8d811a2b3963": {
          "model_module": "@jupyter-widgets/controls",
          "model_module_version": "1.5.0",
          "model_name": "DescriptionStyleModel",
          "state": {
            "_model_module": "@jupyter-widgets/controls",
            "_model_module_version": "1.5.0",
            "_model_name": "DescriptionStyleModel",
            "_view_count": null,
            "_view_module": "@jupyter-widgets/base",
            "_view_module_version": "1.2.0",
            "_view_name": "StyleView",
            "description_width": ""
          }
        },
        "1bf454c086e746b98c4d53884ccdf298": {
          "model_module": "@jupyter-widgets/controls",
          "model_module_version": "1.5.0",
          "model_name": "HBoxModel",
          "state": {
            "_dom_classes": [],
            "_model_module": "@jupyter-widgets/controls",
            "_model_module_version": "1.5.0",
            "_model_name": "HBoxModel",
            "_view_count": null,
            "_view_module": "@jupyter-widgets/controls",
            "_view_module_version": "1.5.0",
            "_view_name": "HBoxView",
            "box_style": "",
            "children": [
              "IPY_MODEL_6b4f5d86e81f462a9efb459d19e1b7ba",
              "IPY_MODEL_bab4444e2ce94551b12647642955b934",
              "IPY_MODEL_ecb62f00fee44d6fba0cac989b339730"
            ],
            "layout": "IPY_MODEL_a486ab6847c447279f78d9b6b58c880d"
          }
        },
        "4bf1631af5984d49aeefb06ec20bddd7": {
          "model_module": "@jupyter-widgets/controls",
          "model_module_version": "1.5.0",
          "model_name": "ProgressStyleModel",
          "state": {
            "_model_module": "@jupyter-widgets/controls",
            "_model_module_version": "1.5.0",
            "_model_name": "ProgressStyleModel",
            "_view_count": null,
            "_view_module": "@jupyter-widgets/base",
            "_view_module_version": "1.2.0",
            "_view_name": "StyleView",
            "bar_color": null,
            "description_width": ""
          }
        },
        "5fe34af3ee1a440ba9f0078ea535df89": {
          "model_module": "@jupyter-widgets/base",
          "model_module_version": "1.2.0",
          "model_name": "LayoutModel",
          "state": {
            "_model_module": "@jupyter-widgets/base",
            "_model_module_version": "1.2.0",
            "_model_name": "LayoutModel",
            "_view_count": null,
            "_view_module": "@jupyter-widgets/base",
            "_view_module_version": "1.2.0",
            "_view_name": "LayoutView",
            "align_content": null,
            "align_items": null,
            "align_self": null,
            "border": null,
            "bottom": null,
            "display": null,
            "flex": null,
            "flex_flow": null,
            "grid_area": null,
            "grid_auto_columns": null,
            "grid_auto_flow": null,
            "grid_auto_rows": null,
            "grid_column": null,
            "grid_gap": null,
            "grid_row": null,
            "grid_template_areas": null,
            "grid_template_columns": null,
            "grid_template_rows": null,
            "height": null,
            "justify_content": null,
            "justify_items": null,
            "left": null,
            "margin": null,
            "max_height": null,
            "max_width": null,
            "min_height": null,
            "min_width": null,
            "object_fit": null,
            "object_position": null,
            "order": null,
            "overflow": null,
            "overflow_x": null,
            "overflow_y": null,
            "padding": null,
            "right": null,
            "top": null,
            "visibility": null,
            "width": null
          }
        },
        "6b4f5d86e81f462a9efb459d19e1b7ba": {
          "model_module": "@jupyter-widgets/controls",
          "model_module_version": "1.5.0",
          "model_name": "HTMLModel",
          "state": {
            "_dom_classes": [],
            "_model_module": "@jupyter-widgets/controls",
            "_model_module_version": "1.5.0",
            "_model_name": "HTMLModel",
            "_view_count": null,
            "_view_module": "@jupyter-widgets/controls",
            "_view_module_version": "1.5.0",
            "_view_name": "HTMLView",
            "description": "",
            "description_tooltip": null,
            "layout": "IPY_MODEL_fa0a8df978ad476e9de1e4abfae18085",
            "placeholder": "​",
            "style": "IPY_MODEL_0fe14e1823e54837948a8d811a2b3963",
            "value": "Epoch 99: 100%"
          }
        },
        "a486ab6847c447279f78d9b6b58c880d": {
          "model_module": "@jupyter-widgets/base",
          "model_module_version": "1.2.0",
          "model_name": "LayoutModel",
          "state": {
            "_model_module": "@jupyter-widgets/base",
            "_model_module_version": "1.2.0",
            "_model_name": "LayoutModel",
            "_view_count": null,
            "_view_module": "@jupyter-widgets/base",
            "_view_module_version": "1.2.0",
            "_view_name": "LayoutView",
            "align_content": null,
            "align_items": null,
            "align_self": null,
            "border": null,
            "bottom": null,
            "display": "inline-flex",
            "flex": null,
            "flex_flow": "row wrap",
            "grid_area": null,
            "grid_auto_columns": null,
            "grid_auto_flow": null,
            "grid_auto_rows": null,
            "grid_column": null,
            "grid_gap": null,
            "grid_row": null,
            "grid_template_areas": null,
            "grid_template_columns": null,
            "grid_template_rows": null,
            "height": null,
            "justify_content": null,
            "justify_items": null,
            "left": null,
            "margin": null,
            "max_height": null,
            "max_width": null,
            "min_height": null,
            "min_width": null,
            "object_fit": null,
            "object_position": null,
            "order": null,
            "overflow": null,
            "overflow_x": null,
            "overflow_y": null,
            "padding": null,
            "right": null,
            "top": null,
            "visibility": null,
            "width": "100%"
          }
        },
        "bab4444e2ce94551b12647642955b934": {
          "model_module": "@jupyter-widgets/controls",
          "model_module_version": "1.5.0",
          "model_name": "FloatProgressModel",
          "state": {
            "_dom_classes": [],
            "_model_module": "@jupyter-widgets/controls",
            "_model_module_version": "1.5.0",
            "_model_name": "FloatProgressModel",
            "_view_count": null,
            "_view_module": "@jupyter-widgets/controls",
            "_view_module_version": "1.5.0",
            "_view_name": "ProgressView",
            "bar_style": "success",
            "description": "",
            "description_tooltip": null,
            "layout": "IPY_MODEL_e6a4732f72cb441f8485c51887146743",
            "max": 831,
            "min": 0,
            "orientation": "horizontal",
            "style": "IPY_MODEL_4bf1631af5984d49aeefb06ec20bddd7",
            "value": 831
          }
        },
        "e6a4732f72cb441f8485c51887146743": {
          "model_module": "@jupyter-widgets/base",
          "model_module_version": "1.2.0",
          "model_name": "LayoutModel",
          "state": {
            "_model_module": "@jupyter-widgets/base",
            "_model_module_version": "1.2.0",
            "_model_name": "LayoutModel",
            "_view_count": null,
            "_view_module": "@jupyter-widgets/base",
            "_view_module_version": "1.2.0",
            "_view_name": "LayoutView",
            "align_content": null,
            "align_items": null,
            "align_self": null,
            "border": null,
            "bottom": null,
            "display": null,
            "flex": "2",
            "flex_flow": null,
            "grid_area": null,
            "grid_auto_columns": null,
            "grid_auto_flow": null,
            "grid_auto_rows": null,
            "grid_column": null,
            "grid_gap": null,
            "grid_row": null,
            "grid_template_areas": null,
            "grid_template_columns": null,
            "grid_template_rows": null,
            "height": null,
            "justify_content": null,
            "justify_items": null,
            "left": null,
            "margin": null,
            "max_height": null,
            "max_width": null,
            "min_height": null,
            "min_width": null,
            "object_fit": null,
            "object_position": null,
            "order": null,
            "overflow": null,
            "overflow_x": null,
            "overflow_y": null,
            "padding": null,
            "right": null,
            "top": null,
            "visibility": null,
            "width": null
          }
        },
        "ecb62f00fee44d6fba0cac989b339730": {
          "model_module": "@jupyter-widgets/controls",
          "model_module_version": "1.5.0",
          "model_name": "HTMLModel",
          "state": {
            "_dom_classes": [],
            "_model_module": "@jupyter-widgets/controls",
            "_model_module_version": "1.5.0",
            "_model_name": "HTMLModel",
            "_view_count": null,
            "_view_module": "@jupyter-widgets/controls",
            "_view_module_version": "1.5.0",
            "_view_name": "HTMLView",
            "description": "",
            "description_tooltip": null,
            "layout": "IPY_MODEL_5fe34af3ee1a440ba9f0078ea535df89",
            "placeholder": "​",
            "style": "IPY_MODEL_f967c2b3e6e7402bbb73351a60da2f3f",
            "value": " 831/831 [00:26&lt;00:00, 31.02it/s, v_num=2]"
          }
        },
        "f967c2b3e6e7402bbb73351a60da2f3f": {
          "model_module": "@jupyter-widgets/controls",
          "model_module_version": "1.5.0",
          "model_name": "DescriptionStyleModel",
          "state": {
            "_model_module": "@jupyter-widgets/controls",
            "_model_module_version": "1.5.0",
            "_model_name": "DescriptionStyleModel",
            "_view_count": null,
            "_view_module": "@jupyter-widgets/base",
            "_view_module_version": "1.2.0",
            "_view_name": "StyleView",
            "description_width": ""
          }
        },
        "fa0a8df978ad476e9de1e4abfae18085": {
          "model_module": "@jupyter-widgets/base",
          "model_module_version": "1.2.0",
          "model_name": "LayoutModel",
          "state": {
            "_model_module": "@jupyter-widgets/base",
            "_model_module_version": "1.2.0",
            "_model_name": "LayoutModel",
            "_view_count": null,
            "_view_module": "@jupyter-widgets/base",
            "_view_module_version": "1.2.0",
            "_view_name": "LayoutView",
            "align_content": null,
            "align_items": null,
            "align_self": null,
            "border": null,
            "bottom": null,
            "display": null,
            "flex": null,
            "flex_flow": null,
            "grid_area": null,
            "grid_auto_columns": null,
            "grid_auto_flow": null,
            "grid_auto_rows": null,
            "grid_column": null,
            "grid_gap": null,
            "grid_row": null,
            "grid_template_areas": null,
            "grid_template_columns": null,
            "grid_template_rows": null,
            "height": null,
            "justify_content": null,
            "justify_items": null,
            "left": null,
            "margin": null,
            "max_height": null,
            "max_width": null,
            "min_height": null,
            "min_width": null,
            "object_fit": null,
            "object_position": null,
            "order": null,
            "overflow": null,
            "overflow_x": null,
            "overflow_y": null,
            "padding": null,
            "right": null,
            "top": null,
            "visibility": null,
            "width": null
          }
        }
      }
    }
  },
  "nbformat": 4,
  "nbformat_minor": 0
}
