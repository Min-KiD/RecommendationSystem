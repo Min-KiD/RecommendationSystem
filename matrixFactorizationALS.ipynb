{
 "cells": [
  {
   "cell_type": "markdown",
   "id": "b10e43fc",
   "metadata": {
    "id": "MiyXynTpdlqg",
    "papermill": {
     "duration": 0.005911,
     "end_time": "2024-11-19T07:43:07.210711",
     "exception": false,
     "start_time": "2024-11-19T07:43:07.204800",
     "status": "completed"
    },
    "tags": []
   },
   "source": [
    "# Collaborative Filtering\n",
    "\n",
    "\n",
    "\n",
    "## Matrix Factorization"
   ]
  },
  {
   "cell_type": "code",
   "execution_count": 1,
   "id": "3e01853b",
   "metadata": {
    "execution": {
     "iopub.execute_input": "2024-11-19T07:43:07.223112Z",
     "iopub.status.busy": "2024-11-19T07:43:07.222638Z",
     "iopub.status.idle": "2024-11-19T07:43:16.456508Z",
     "shell.execute_reply": "2024-11-19T07:43:16.455453Z"
    },
    "id": "NkCmr8X6dlqh",
    "papermill": {
     "duration": 9.242899,
     "end_time": "2024-11-19T07:43:16.458905",
     "exception": false,
     "start_time": "2024-11-19T07:43:07.216006",
     "status": "completed"
    },
    "tags": []
   },
   "outputs": [],
   "source": [
    "import numpy as np\n",
    "import pandas as pd\n",
    "import time\n",
    "\n",
    "import pytorch_lightning as pl\n",
    "from sklearn.model_selection import train_test_split\n",
    "import torch\n",
    "from torch import nn\n",
    "import torch.multiprocessing\n",
    "import torch.nn.functional as F\n",
    "from torch.utils.data import DataLoader, Dataset\n",
    "\n",
    "torch.manual_seed(21)\n",
    "np.random.seed(21)"
   ]
  },
  {
   "cell_type": "code",
   "execution_count": 2,
   "id": "bd3e69d7",
   "metadata": {
    "execution": {
     "iopub.execute_input": "2024-11-19T07:43:16.470923Z",
     "iopub.status.busy": "2024-11-19T07:43:16.470447Z",
     "iopub.status.idle": "2024-11-19T07:43:17.634098Z",
     "shell.execute_reply": "2024-11-19T07:43:17.633027Z"
    },
    "papermill": {
     "duration": 1.17253,
     "end_time": "2024-11-19T07:43:17.636743",
     "exception": false,
     "start_time": "2024-11-19T07:43:16.464213",
     "status": "completed"
    },
    "tags": []
   },
   "outputs": [],
   "source": [
    "users = pd.read_csv('/kaggle/input/gamers/game_data_prepared/users.csv')\n",
    "ratings = pd.read_csv('/kaggle/input/gamers/game_data_prepared/ratings.csv')\n",
    "gamesF = pd.read_csv('/kaggle/input/gamers/game_data_prepared/games.csv')"
   ]
  },
  {
   "cell_type": "code",
   "execution_count": 3,
   "id": "ffeb3827",
   "metadata": {
    "execution": {
     "iopub.execute_input": "2024-11-19T07:43:17.651423Z",
     "iopub.status.busy": "2024-11-19T07:43:17.650533Z",
     "iopub.status.idle": "2024-11-19T07:43:17.783106Z",
     "shell.execute_reply": "2024-11-19T07:43:17.782308Z"
    },
    "papermill": {
     "duration": 0.142697,
     "end_time": "2024-11-19T07:43:17.785433",
     "exception": false,
     "start_time": "2024-11-19T07:43:17.642736",
     "status": "completed"
    },
    "tags": []
   },
   "outputs": [],
   "source": [
    "from sklearn.model_selection import train_test_split\n",
    "train_ratings, test_ratings = train_test_split(\n",
    "    ratings, test_size=0.15, random_state=21\n",
    ")"
   ]
  },
  {
   "cell_type": "code",
   "execution_count": 4,
   "id": "03cf7809",
   "metadata": {
    "execution": {
     "iopub.execute_input": "2024-11-19T07:43:17.797292Z",
     "iopub.status.busy": "2024-11-19T07:43:17.796882Z",
     "iopub.status.idle": "2024-11-19T07:43:17.825698Z",
     "shell.execute_reply": "2024-11-19T07:43:17.824530Z"
    },
    "papermill": {
     "duration": 0.037135,
     "end_time": "2024-11-19T07:43:17.827711",
     "exception": false,
     "start_time": "2024-11-19T07:43:17.790576",
     "status": "completed"
    },
    "tags": []
   },
   "outputs": [
    {
     "name": "stdout",
     "output_type": "stream",
     "text": [
      "There are 7639 users in test set.\n",
      "Total number of users: 7639\n"
     ]
    }
   ],
   "source": [
    "users_in_validation = train_ratings[\"user_id\"].unique()\n",
    "all_users = users[\"user_id\"].unique()\n",
    "\n",
    "print(f\"There are {len(users_in_validation)} users in test set.\")\n",
    "print(f\"Total number of users: {len(all_users)}\")"
   ]
  },
  {
   "cell_type": "code",
   "execution_count": 5,
   "id": "c917d11b",
   "metadata": {
    "execution": {
     "iopub.execute_input": "2024-11-19T07:43:17.839507Z",
     "iopub.status.busy": "2024-11-19T07:43:17.839151Z",
     "iopub.status.idle": "2024-11-19T07:43:17.860338Z",
     "shell.execute_reply": "2024-11-19T07:43:17.859317Z"
    },
    "id": "IwJsEQq7dlqi",
    "papermill": {
     "duration": 0.029593,
     "end_time": "2024-11-19T07:43:17.862511",
     "exception": false,
     "start_time": "2024-11-19T07:43:17.832918",
     "status": "completed"
    },
    "tags": []
   },
   "outputs": [],
   "source": [
    "game_index_by_id = {id: idx for idx, id in enumerate(gamesF[\"app_id\"])}\n",
    "user_index_by_id = {id: idx for idx, id in enumerate(users[\"user_id\"])}\n",
    "\n",
    "class GameDataset(Dataset):\n",
    "    def __init__(self, ratings: pd.DataFrame):\n",
    "        self.ratings = ratings\n",
    "\n",
    "    def __len__(self):\n",
    "        return len(self.ratings)\n",
    "\n",
    "    def __getitem__(self, index):\n",
    "        user_id = self.ratings[\"user_id\"].iloc[index]\n",
    "        game_id = self.ratings[\"app_id\"].iloc[index]\n",
    "        rating = self.ratings[\"is_recommended\"].iloc[index]\n",
    "        user_index = user_index_by_id[user_id]\n",
    "        game_index = game_index_by_id[game_id]\n",
    "        \n",
    "        return user_index, game_index, rating\n",
    "\n",
    "training_data =GameDataset(train_ratings)\n",
    "test_data = GameDataset(test_ratings)\n",
    "batch_size = 1024*50\n",
    "train_dataloader = DataLoader(training_data, batch_size=batch_size, shuffle=True, num_workers=4, pin_memory=True, persistent_workers=True)\n",
    "test_dataloader = DataLoader(test_data, batch_size=batch_size, shuffle=False, num_workers=4, pin_memory=True)"
   ]
  },
  {
   "cell_type": "markdown",
   "id": "c8517424",
   "metadata": {
    "papermill": {
     "duration": 0.004755,
     "end_time": "2024-11-19T07:43:17.872645",
     "exception": false,
     "start_time": "2024-11-19T07:43:17.867890",
     "status": "completed"
    },
    "tags": []
   },
   "source": [
    "### SVD (Singular Value Decomposition) \n",
    "\n",
    "\n",
    "\n",
    "SVD is a matrix factorization technique where a user-item matrix is decomposed into lower-dimensional user and item matrices, which capture latent factors."
   ]
  },
  {
   "cell_type": "code",
   "execution_count": 6,
   "id": "63656d02",
   "metadata": {
    "execution": {
     "iopub.execute_input": "2024-11-19T07:43:17.884094Z",
     "iopub.status.busy": "2024-11-19T07:43:17.883711Z",
     "iopub.status.idle": "2024-11-19T07:43:17.893283Z",
     "shell.execute_reply": "2024-11-19T07:43:17.892475Z"
    },
    "id": "Rsq-LMoIdlqi",
    "papermill": {
     "duration": 0.017552,
     "end_time": "2024-11-19T07:43:17.895155",
     "exception": false,
     "start_time": "2024-11-19T07:43:17.877603",
     "status": "completed"
    },
    "tags": []
   },
   "outputs": [],
   "source": [
    "# import jdc\n",
    "LR = 1\n",
    "WEIGHT_DECAY = 5e-5\n",
    "\n",
    "class MatrixFactorizationSVD(pl.LightningModule):\n",
    "    \"\"\"\n",
    "    Attributes:\n",
    "        n_users: number of users.\n",
    "        n_items: number of items.\n",
    "        n_factors: number of latent factors (or embedding size)\n",
    "    \"\"\"\n",
    "    def __init__(self, n_users, n_items, n_factors = 50):\n",
    "        super().__init__()\n",
    "        self.n_users = n_users\n",
    "        self.n_items = n_items\n",
    "        self.n_factors = n_factors\n",
    "        self.user_biases = nn.Embedding(n_users, 1)\n",
    "        self.item_biases = nn.Embedding(n_items, 1)\n",
    "        self.bias = nn.Parameter(data=torch.rand(1))\n",
    "        self.user_embeddings = nn.Embedding(n_users, n_factors)\n",
    "        self.item_embeddings = nn.Embedding(n_items, n_factors)\n",
    "\n",
    "    def forward(self, users, items):\n",
    "        \"\"\"\n",
    "        For a single user and item, this looks like:\n",
    "        bias + user_bias + item_bias + user_embeddings.dot(item_embeddings)\n",
    "        \"\"\"\n",
    "        # select users and items from the batch\n",
    "        batch_user_embs = self.user_embeddings(users)\n",
    "        batch_item_embs = self.item_embeddings(items)\n",
    "\n",
    "        preds = torch.reshape(\n",
    "            torch.diag(\n",
    "                torch.matmul(batch_user_embs, torch.transpose(batch_item_embs, 0, 1))\n",
    "            ),\n",
    "            (-1, 1),\n",
    "        )\n",
    "        # add bias\n",
    "        preds += self.user_biases(users) + self.item_biases(items) + self.bias\n",
    "\n",
    "        return torch.clip(preds.squeeze(), min=0, max=1)\n",
    "\n",
    "    def training_step(self, batch, batch_idx):\n",
    "        users, items, rating = batch\n",
    "        rating = rating.to(torch.float32)\n",
    "        output = self.forward(users, items)\n",
    "        loss = F.mse_loss(rating, output)\n",
    "        self.log(\"batch_loss\", loss)\n",
    "\n",
    "        return {\"loss\": loss}\n",
    "        \n",
    "    def configure_optimizers(self):\n",
    "        optimizer = torch.optim.SGD(self.parameters(), lr=LR, weight_decay=WEIGHT_DECAY)\n",
    "\n",
    "        return optimizer"
   ]
  },
  {
   "cell_type": "code",
   "execution_count": 7,
   "id": "f9054ad7",
   "metadata": {
    "execution": {
     "iopub.execute_input": "2024-11-19T07:43:17.906888Z",
     "iopub.status.busy": "2024-11-19T07:43:17.906506Z",
     "iopub.status.idle": "2024-11-19T07:43:17.911209Z",
     "shell.execute_reply": "2024-11-19T07:43:17.910194Z"
    },
    "id": "E4BkthBpdlqj",
    "outputId": "bcbd0d12-e949-44c8-ad2d-a490f8c45430",
    "papermill": {
     "duration": 0.013105,
     "end_time": "2024-11-19T07:43:17.913166",
     "exception": false,
     "start_time": "2024-11-19T07:43:17.900061",
     "status": "completed"
    },
    "tags": []
   },
   "outputs": [],
   "source": [
    "# from pytorch_lightning.loggers import TensorBoardLogger\n",
    "\n",
    "# logger = TensorBoardLogger(\"logs\", name=f\"lr{LR}_wd{WEIGHT_DECAY}\")\n",
    "# start_time = time.time()\n",
    "\n",
    "# n_users = len(user_index_by_id)\n",
    "# n_games = len(game_index_by_id)\n",
    "# n_factors = 80\n",
    "# model = MatrixFactorizationSVD(n_users=n_users, n_items=n_games, n_factors=n_factors)\n",
    "# trainer = pl.Trainer(devices=1, accelerator=\"gpu\", max_epochs=100, logger=logger)\n",
    "# trainer.fit(model, train_dataloader, test_dataloader)\n",
    "\n",
    "# end_time = time.time()\n",
    "\n",
    "# exe_time = end_time - start_time\n",
    "# print(\"Execution Time:\", exe_time, \"seconds\")"
   ]
  },
  {
   "cell_type": "code",
   "execution_count": 8,
   "id": "04f79af1",
   "metadata": {
    "execution": {
     "iopub.execute_input": "2024-11-19T07:43:17.924930Z",
     "iopub.status.busy": "2024-11-19T07:43:17.924581Z",
     "iopub.status.idle": "2024-11-19T07:43:17.928738Z",
     "shell.execute_reply": "2024-11-19T07:43:17.927999Z"
    },
    "id": "GOKLlUtudlqj",
    "outputId": "c3f82bbb-05dd-459e-9835-8797c0426185",
    "papermill": {
     "duration": 0.012219,
     "end_time": "2024-11-19T07:43:17.930582",
     "exception": false,
     "start_time": "2024-11-19T07:43:17.918363",
     "status": "completed"
    },
    "tags": []
   },
   "outputs": [],
   "source": [
    "# def eval_model(model, train_dataloader):\n",
    "#     loss = 0\n",
    "#     for users, items, rating in train_dataloader:\n",
    "#         pred = model(users, items)\n",
    "#         loss += F.mse_loss(pred, rating)\n",
    "#     RMSE = (loss / len(train_dataloader))**.5\n",
    "    \n",
    "#     return RMSE\n",
    "\n",
    "# print(\"Train RMSE: {:.3f}\".format(eval_model(model, train_dataloader)))\n",
    "# print(\"Validation RMSE: {:.3f}\".format(eval_model(model, test_dataloader)))"
   ]
  },
  {
   "cell_type": "markdown",
   "id": "607d98a4",
   "metadata": {
    "papermill": {
     "duration": 0.0047,
     "end_time": "2024-11-19T07:43:17.940411",
     "exception": false,
     "start_time": "2024-11-19T07:43:17.935711",
     "status": "completed"
    },
    "tags": []
   },
   "source": [
    "### Alternating Least Squares (ALS)\n",
    "\n",
    "\n",
    "\n",
    "ALS uses a different technique to solve the optimization problem: it alternates between updating the user and item embeddings while keeping the other fixed. In each step, it minimizes the squared error\n",
    "\n",
    "\n",
    "\n",
    "Instead of updating all parameters simultaneously (as in SVD), ALS alternates between fixing one set of embeddings (user or item) and updating the other"
   ]
  },
  {
   "cell_type": "code",
   "execution_count": 9,
   "id": "c74087a9",
   "metadata": {
    "execution": {
     "iopub.execute_input": "2024-11-19T07:43:17.951518Z",
     "iopub.status.busy": "2024-11-19T07:43:17.951205Z",
     "iopub.status.idle": "2024-11-19T07:43:17.956117Z",
     "shell.execute_reply": "2024-11-19T07:43:17.955248Z"
    },
    "papermill": {
     "duration": 0.012764,
     "end_time": "2024-11-19T07:43:17.958047",
     "exception": false,
     "start_time": "2024-11-19T07:43:17.945283",
     "status": "completed"
    },
    "tags": []
   },
   "outputs": [],
   "source": [
    "batch_size = 1024*50\n",
    "train_dataloader = DataLoader(training_data, batch_size=batch_size, shuffle=True, num_workers=4, pin_memory=True, persistent_workers=False)\n",
    "test_dataloader = DataLoader(test_data, batch_size=batch_size, shuffle=False, num_workers=4, pin_memory=True)"
   ]
  },
  {
   "cell_type": "code",
   "execution_count": 10,
   "id": "b3c4517e",
   "metadata": {
    "execution": {
     "iopub.execute_input": "2024-11-19T07:43:17.969528Z",
     "iopub.status.busy": "2024-11-19T07:43:17.969217Z",
     "iopub.status.idle": "2024-11-19T07:43:17.979419Z",
     "shell.execute_reply": "2024-11-19T07:43:17.978434Z"
    },
    "id": "T1ZKyLw5dlqj",
    "papermill": {
     "duration": 0.018568,
     "end_time": "2024-11-19T07:43:17.981593",
     "exception": false,
     "start_time": "2024-11-19T07:43:17.963025",
     "status": "completed"
    },
    "tags": []
   },
   "outputs": [],
   "source": [
    "LR = 1\n",
    "WEIGHT_DECAY = 5e-5\n",
    "\n",
    "class MatrixFactorizationALS(pl.LightningModule):\n",
    "    def __init__(self, n_users, n_items, n_factors=100, reg=0.01):\n",
    "        super().__init__()\n",
    "        self.n_users = n_users\n",
    "        self.n_items = n_items\n",
    "        self.n_factors = n_factors\n",
    "        self.reg = reg  # Regularization term \n",
    "        self.user_embeddings = nn.Embedding(n_users, n_factors)\n",
    "        self.item_embeddings = nn.Embedding(n_items, n_factors)\n",
    "        torch.nn.init.xavier_normal_(self.user_embeddings.weight)\n",
    "        torch.nn.init.xavier_normal_(self.item_embeddings.weight)\n",
    "\n",
    "    def forward(self, users, items):\n",
    "        batch_user_embs = self.user_embeddings(users)\n",
    "        batch_item_embs = self.item_embeddings(items)\n",
    "\n",
    "        preds = torch.sum(batch_user_embs * batch_item_embs, dim=1) # Dot product of user and item embeddings\n",
    "\n",
    "        return preds\n",
    "\n",
    "    def training_step(self, batch, batch_idx):\n",
    "        users, items, ratings = batch\n",
    "        ratings = ratings.to(torch.float32)\n",
    "        self.update_embeddings(\n",
    "            self.item_embeddings, self.user_embeddings, items, users, ratings\n",
    "        )\n",
    "        self.update_embeddings(\n",
    "            self.user_embeddings, self.item_embeddings, users, items, ratings\n",
    "        )\n",
    "\n",
    "        preds = self.forward(users, items)\n",
    "        loss = F.mse_loss(preds, ratings)\n",
    "        self.log(\"train_loss\", loss)\n",
    "        return {\"loss\": loss}\n",
    "\n",
    "    def update_embeddings(self, target_embs, fixed_embs, target_ids, fixed_ids, ratings):\n",
    "        \"\"\"\n",
    "        Update target embeddings (users or items) while fixing the other.\n",
    "        \"\"\"\n",
    "        device = target_embs.weight.device\n",
    "        fixed_embs_batch = fixed_embs(fixed_ids)\n",
    "        target_ids_unique = torch.unique(target_ids)\n",
    "        \n",
    "        for target_id in target_ids_unique:\n",
    "            mask = target_ids == target_id\n",
    "            fixed_embs_for_target = fixed_embs_batch[mask]\n",
    "            ratings_for_target = ratings[mask]\n",
    "            XtX = torch.matmul(fixed_embs_for_target.T, fixed_embs_for_target) # fixed_embs_for_target.T @ fixed_embs_for_target\n",
    "            XtX += self.reg * torch.eye(self.n_factors, device=device)\n",
    "            Xty = torch.matmul(fixed_embs_for_target.T, ratings_for_target) # fixed_embs_for_target.T @ ratings_for_target\n",
    "\n",
    "            target_embs.weight.data[target_id] = torch.linalg.solve(XtX, Xty)\n",
    "\n",
    "    def configure_optimizers(self):\n",
    "\n",
    "        return None"
   ]
  },
  {
   "cell_type": "code",
   "execution_count": 11,
   "id": "9b2bda00",
   "metadata": {
    "execution": {
     "iopub.execute_input": "2024-11-19T07:43:17.994601Z",
     "iopub.status.busy": "2024-11-19T07:43:17.993658Z",
     "iopub.status.idle": "2024-11-19T16:09:25.903785Z",
     "shell.execute_reply": "2024-11-19T16:09:25.902726Z"
    },
    "id": "l88051wqdlqj",
    "papermill": {
     "duration": 30367.918668,
     "end_time": "2024-11-19T16:09:25.905676",
     "exception": false,
     "start_time": "2024-11-19T07:43:17.987008",
     "status": "completed"
    },
    "tags": []
   },
   "outputs": [
    {
     "name": "stderr",
     "output_type": "stream",
     "text": [
      "/opt/conda/lib/python3.10/site-packages/pytorch_lightning/trainer/configuration_validator.py:68: You passed in a `val_dataloader` but have no `validation_step`. Skipping val loop.\n",
      "/opt/conda/lib/python3.10/site-packages/pytorch_lightning/core/optimizer.py:182: `LightningModule.configure_optimizers` returned `None`, this fit will run with no optimizer\n",
      "/opt/conda/lib/python3.10/multiprocessing/popen_fork.py:66: RuntimeWarning: os.fork() was called. os.fork() is incompatible with multithreaded code, and JAX is multithreaded, so this will likely lead to a deadlock.\n",
      "  self.pid = os.fork()\n",
      "/opt/conda/lib/python3.10/site-packages/pytorch_lightning/loops/fit_loop.py:298: The number of training batches (21) is smaller than the logging interval Trainer(log_every_n_steps=50). Set a lower value for log_every_n_steps if you want to see logs for the training epoch.\n"
     ]
    },
    {
     "data": {
      "application/vnd.jupyter.widget-view+json": {
       "model_id": "ec2438e9952349ca80b430c3caa29117",
       "version_major": 2,
       "version_minor": 0
      },
      "text/plain": [
       "Training: |          | 0/? [00:00<?, ?it/s]"
      ]
     },
     "metadata": {},
     "output_type": "display_data"
    },
    {
     "name": "stderr",
     "output_type": "stream",
     "text": [
      "/opt/conda/lib/python3.10/multiprocessing/popen_fork.py:66: RuntimeWarning: os.fork() was called. os.fork() is incompatible with multithreaded code, and JAX is multithreaded, so this will likely lead to a deadlock.\n",
      "  self.pid = os.fork()\n"
     ]
    },
    {
     "name": "stdout",
     "output_type": "stream",
     "text": [
      "Execution Time: 30367.900217056274 seconds\n"
     ]
    }
   ],
   "source": [
    "from pytorch_lightning.loggers import TensorBoardLogger\n",
    "\n",
    "logger = TensorBoardLogger(\"logs\", name=f\"lr{LR}_wd{WEIGHT_DECAY}\")\n",
    "start_time = time.time()\n",
    "\n",
    "n_users = len(user_index_by_id)\n",
    "n_games = len(game_index_by_id)\n",
    "n_factors = 80 \n",
    "\n",
    "model = MatrixFactorizationALS(n_users=n_users, n_items=n_games, n_factors=n_factors)\n",
    "trainer = pl.Trainer(devices=1, accelerator=\"gpu\", max_epochs=100, logger=logger)\n",
    "trainer.fit(model, train_dataloader, test_dataloader)\n",
    "\n",
    "end_time = time.time()\n",
    "\n",
    "exe_time = end_time - start_time\n",
    "print(\"Execution Time:\", exe_time, \"seconds\")"
   ]
  },
  {
   "cell_type": "code",
   "execution_count": 12,
   "id": "fe1a62fe",
   "metadata": {
    "execution": {
     "iopub.execute_input": "2024-11-19T16:09:25.916633Z",
     "iopub.status.busy": "2024-11-19T16:09:25.916340Z",
     "iopub.status.idle": "2024-11-19T16:09:41.453883Z",
     "shell.execute_reply": "2024-11-19T16:09:41.452572Z"
    },
    "papermill": {
     "duration": 15.545181,
     "end_time": "2024-11-19T16:09:41.455802",
     "exception": false,
     "start_time": "2024-11-19T16:09:25.910621",
     "status": "completed"
    },
    "tags": []
   },
   "outputs": [
    {
     "name": "stdout",
     "output_type": "stream",
     "text": [
      "Train RMSE: 0.626\n",
      "Validation RMSE: 0.640\n"
     ]
    }
   ],
   "source": [
    "def eval_model(model, train_dataloader):\n",
    "    loss = 0\n",
    "    for users, items, rating in train_dataloader:\n",
    "        pred = model(users, items)\n",
    "        loss += F.mse_loss(pred, rating)\n",
    "    RMSE = (loss / len(train_dataloader))**.5\n",
    "    \n",
    "    return RMSE\n",
    "\n",
    "print(\"Train RMSE: {:.3f}\".format(eval_model(model, train_dataloader)))\n",
    "print(\"Validation RMSE: {:.3f}\".format(eval_model(model, test_dataloader)))"
   ]
  },
  {
   "cell_type": "code",
   "execution_count": null,
   "id": "e3199b28",
   "metadata": {
    "papermill": {
     "duration": 0.004682,
     "end_time": "2024-11-19T16:09:41.465467",
     "exception": false,
     "start_time": "2024-11-19T16:09:41.460785",
     "status": "completed"
    },
    "tags": []
   },
   "outputs": [],
   "source": []
  }
 ],
 "metadata": {
  "accelerator": "GPU",
  "colab": {
   "gpuType": "T4",
   "provenance": []
  },
  "kaggle": {
   "accelerator": "gpu",
   "dataSources": [
    {
     "datasetId": 2871694,
     "sourceId": 9172942,
     "sourceType": "datasetVersion"
    },
    {
     "datasetId": 6084510,
     "sourceId": 9948410,
     "sourceType": "datasetVersion"
    }
   ],
   "dockerImageVersionId": 30787,
   "isGpuEnabled": true,
   "isInternetEnabled": true,
   "language": "python",
   "sourceType": "notebook"
  },
  "kernelspec": {
   "display_name": "Python 3",
   "language": "python",
   "name": "python3"
  },
  "language_info": {
   "codemirror_mode": {
    "name": "ipython",
    "version": 3
   },
   "file_extension": ".py",
   "mimetype": "text/x-python",
   "name": "python",
   "nbconvert_exporter": "python",
   "pygments_lexer": "ipython3",
   "version": "3.10.14"
  },
  "papermill": {
   "default_parameters": {},
   "duration": 30400.737768,
   "end_time": "2024-11-19T16:09:45.140682",
   "environment_variables": {},
   "exception": null,
   "input_path": "__notebook__.ipynb",
   "output_path": "__notebook__.ipynb",
   "parameters": {},
   "start_time": "2024-11-19T07:43:04.402914",
   "version": "2.6.0"
  },
  "widgets": {
   "application/vnd.jupyter.widget-state+json": {
    "state": {
     "01e2bfb0d5f645d4bbb70c591d65a614": {
      "model_module": "@jupyter-widgets/base",
      "model_module_version": "1.2.0",
      "model_name": "LayoutModel",
      "state": {
       "_model_module": "@jupyter-widgets/base",
       "_model_module_version": "1.2.0",
       "_model_name": "LayoutModel",
       "_view_count": null,
       "_view_module": "@jupyter-widgets/base",
       "_view_module_version": "1.2.0",
       "_view_name": "LayoutView",
       "align_content": null,
       "align_items": null,
       "align_self": null,
       "border": null,
       "bottom": null,
       "display": null,
       "flex": "2",
       "flex_flow": null,
       "grid_area": null,
       "grid_auto_columns": null,
       "grid_auto_flow": null,
       "grid_auto_rows": null,
       "grid_column": null,
       "grid_gap": null,
       "grid_row": null,
       "grid_template_areas": null,
       "grid_template_columns": null,
       "grid_template_rows": null,
       "height": null,
       "justify_content": null,
       "justify_items": null,
       "left": null,
       "margin": null,
       "max_height": null,
       "max_width": null,
       "min_height": null,
       "min_width": null,
       "object_fit": null,
       "object_position": null,
       "order": null,
       "overflow": null,
       "overflow_x": null,
       "overflow_y": null,
       "padding": null,
       "right": null,
       "top": null,
       "visibility": null,
       "width": null
      }
     },
     "0ca7d093da2b441095b94a119736d4cd": {
      "model_module": "@jupyter-widgets/base",
      "model_module_version": "1.2.0",
      "model_name": "LayoutModel",
      "state": {
       "_model_module": "@jupyter-widgets/base",
       "_model_module_version": "1.2.0",
       "_model_name": "LayoutModel",
       "_view_count": null,
       "_view_module": "@jupyter-widgets/base",
       "_view_module_version": "1.2.0",
       "_view_name": "LayoutView",
       "align_content": null,
       "align_items": null,
       "align_self": null,
       "border": null,
       "bottom": null,
       "display": null,
       "flex": null,
       "flex_flow": null,
       "grid_area": null,
       "grid_auto_columns": null,
       "grid_auto_flow": null,
       "grid_auto_rows": null,
       "grid_column": null,
       "grid_gap": null,
       "grid_row": null,
       "grid_template_areas": null,
       "grid_template_columns": null,
       "grid_template_rows": null,
       "height": null,
       "justify_content": null,
       "justify_items": null,
       "left": null,
       "margin": null,
       "max_height": null,
       "max_width": null,
       "min_height": null,
       "min_width": null,
       "object_fit": null,
       "object_position": null,
       "order": null,
       "overflow": null,
       "overflow_x": null,
       "overflow_y": null,
       "padding": null,
       "right": null,
       "top": null,
       "visibility": null,
       "width": null
      }
     },
     "1565997bd1814dc0b636b1d5399d4a90": {
      "model_module": "@jupyter-widgets/controls",
      "model_module_version": "1.5.0",
      "model_name": "DescriptionStyleModel",
      "state": {
       "_model_module": "@jupyter-widgets/controls",
       "_model_module_version": "1.5.0",
       "_model_name": "DescriptionStyleModel",
       "_view_count": null,
       "_view_module": "@jupyter-widgets/base",
       "_view_module_version": "1.2.0",
       "_view_name": "StyleView",
       "description_width": ""
      }
     },
     "3975daba69d643c8a9506751477e7e04": {
      "model_module": "@jupyter-widgets/controls",
      "model_module_version": "1.5.0",
      "model_name": "DescriptionStyleModel",
      "state": {
       "_model_module": "@jupyter-widgets/controls",
       "_model_module_version": "1.5.0",
       "_model_name": "DescriptionStyleModel",
       "_view_count": null,
       "_view_module": "@jupyter-widgets/base",
       "_view_module_version": "1.2.0",
       "_view_name": "StyleView",
       "description_width": ""
      }
     },
     "8fe5995995164f3fac73726652cc47b6": {
      "model_module": "@jupyter-widgets/controls",
      "model_module_version": "1.5.0",
      "model_name": "ProgressStyleModel",
      "state": {
       "_model_module": "@jupyter-widgets/controls",
       "_model_module_version": "1.5.0",
       "_model_name": "ProgressStyleModel",
       "_view_count": null,
       "_view_module": "@jupyter-widgets/base",
       "_view_module_version": "1.2.0",
       "_view_name": "StyleView",
       "bar_color": null,
       "description_width": ""
      }
     },
     "904b29064e634cde9ad982272a2073a4": {
      "model_module": "@jupyter-widgets/base",
      "model_module_version": "1.2.0",
      "model_name": "LayoutModel",
      "state": {
       "_model_module": "@jupyter-widgets/base",
       "_model_module_version": "1.2.0",
       "_model_name": "LayoutModel",
       "_view_count": null,
       "_view_module": "@jupyter-widgets/base",
       "_view_module_version": "1.2.0",
       "_view_name": "LayoutView",
       "align_content": null,
       "align_items": null,
       "align_self": null,
       "border": null,
       "bottom": null,
       "display": "inline-flex",
       "flex": null,
       "flex_flow": "row wrap",
       "grid_area": null,
       "grid_auto_columns": null,
       "grid_auto_flow": null,
       "grid_auto_rows": null,
       "grid_column": null,
       "grid_gap": null,
       "grid_row": null,
       "grid_template_areas": null,
       "grid_template_columns": null,
       "grid_template_rows": null,
       "height": null,
       "justify_content": null,
       "justify_items": null,
       "left": null,
       "margin": null,
       "max_height": null,
       "max_width": null,
       "min_height": null,
       "min_width": null,
       "object_fit": null,
       "object_position": null,
       "order": null,
       "overflow": null,
       "overflow_x": null,
       "overflow_y": null,
       "padding": null,
       "right": null,
       "top": null,
       "visibility": null,
       "width": "100%"
      }
     },
     "ac90aa2f229c440697f8b96e7e3b8735": {
      "model_module": "@jupyter-widgets/controls",
      "model_module_version": "1.5.0",
      "model_name": "HTMLModel",
      "state": {
       "_dom_classes": [],
       "_model_module": "@jupyter-widgets/controls",
       "_model_module_version": "1.5.0",
       "_model_name": "HTMLModel",
       "_view_count": null,
       "_view_module": "@jupyter-widgets/controls",
       "_view_module_version": "1.5.0",
       "_view_name": "HTMLView",
       "description": "",
       "description_tooltip": null,
       "layout": "IPY_MODEL_0ca7d093da2b441095b94a119736d4cd",
       "placeholder": "​",
       "style": "IPY_MODEL_3975daba69d643c8a9506751477e7e04",
       "value": "Epoch 99: 100%"
      }
     },
     "b91f081a130846ab8874a5455b483627": {
      "model_module": "@jupyter-widgets/controls",
      "model_module_version": "1.5.0",
      "model_name": "HTMLModel",
      "state": {
       "_dom_classes": [],
       "_model_module": "@jupyter-widgets/controls",
       "_model_module_version": "1.5.0",
       "_model_name": "HTMLModel",
       "_view_count": null,
       "_view_module": "@jupyter-widgets/controls",
       "_view_module_version": "1.5.0",
       "_view_name": "HTMLView",
       "description": "",
       "description_tooltip": null,
       "layout": "IPY_MODEL_f9e582faaa844e139b1a222055a528d3",
       "placeholder": "​",
       "style": "IPY_MODEL_1565997bd1814dc0b636b1d5399d4a90",
       "value": " 21/21 [04:56&lt;00:00,  0.07it/s, v_num=0]"
      }
     },
     "bae7e55ffb674f4e8b8742958bdf8f9b": {
      "model_module": "@jupyter-widgets/controls",
      "model_module_version": "1.5.0",
      "model_name": "FloatProgressModel",
      "state": {
       "_dom_classes": [],
       "_model_module": "@jupyter-widgets/controls",
       "_model_module_version": "1.5.0",
       "_model_name": "FloatProgressModel",
       "_view_count": null,
       "_view_module": "@jupyter-widgets/controls",
       "_view_module_version": "1.5.0",
       "_view_name": "ProgressView",
       "bar_style": "success",
       "description": "",
       "description_tooltip": null,
       "layout": "IPY_MODEL_01e2bfb0d5f645d4bbb70c591d65a614",
       "max": 21.0,
       "min": 0.0,
       "orientation": "horizontal",
       "style": "IPY_MODEL_8fe5995995164f3fac73726652cc47b6",
       "value": 21.0
      }
     },
     "ec2438e9952349ca80b430c3caa29117": {
      "model_module": "@jupyter-widgets/controls",
      "model_module_version": "1.5.0",
      "model_name": "HBoxModel",
      "state": {
       "_dom_classes": [],
       "_model_module": "@jupyter-widgets/controls",
       "_model_module_version": "1.5.0",
       "_model_name": "HBoxModel",
       "_view_count": null,
       "_view_module": "@jupyter-widgets/controls",
       "_view_module_version": "1.5.0",
       "_view_name": "HBoxView",
       "box_style": "",
       "children": [
        "IPY_MODEL_ac90aa2f229c440697f8b96e7e3b8735",
        "IPY_MODEL_bae7e55ffb674f4e8b8742958bdf8f9b",
        "IPY_MODEL_b91f081a130846ab8874a5455b483627"
       ],
       "layout": "IPY_MODEL_904b29064e634cde9ad982272a2073a4"
      }
     },
     "f9e582faaa844e139b1a222055a528d3": {
      "model_module": "@jupyter-widgets/base",
      "model_module_version": "1.2.0",
      "model_name": "LayoutModel",
      "state": {
       "_model_module": "@jupyter-widgets/base",
       "_model_module_version": "1.2.0",
       "_model_name": "LayoutModel",
       "_view_count": null,
       "_view_module": "@jupyter-widgets/base",
       "_view_module_version": "1.2.0",
       "_view_name": "LayoutView",
       "align_content": null,
       "align_items": null,
       "align_self": null,
       "border": null,
       "bottom": null,
       "display": null,
       "flex": null,
       "flex_flow": null,
       "grid_area": null,
       "grid_auto_columns": null,
       "grid_auto_flow": null,
       "grid_auto_rows": null,
       "grid_column": null,
       "grid_gap": null,
       "grid_row": null,
       "grid_template_areas": null,
       "grid_template_columns": null,
       "grid_template_rows": null,
       "height": null,
       "justify_content": null,
       "justify_items": null,
       "left": null,
       "margin": null,
       "max_height": null,
       "max_width": null,
       "min_height": null,
       "min_width": null,
       "object_fit": null,
       "object_position": null,
       "order": null,
       "overflow": null,
       "overflow_x": null,
       "overflow_y": null,
       "padding": null,
       "right": null,
       "top": null,
       "visibility": null,
       "width": null
      }
     }
    },
    "version_major": 2,
    "version_minor": 0
   }
  }
 },
 "nbformat": 4,
 "nbformat_minor": 5
}
