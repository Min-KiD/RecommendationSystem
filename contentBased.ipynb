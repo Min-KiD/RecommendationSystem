{
 "cells": [
  {
   "cell_type": "markdown",
   "metadata": {},
   "source": [
    "# Content-based Filtering"
   ]
  },
  {
   "cell_type": "code",
   "execution_count": 2,
   "metadata": {},
   "outputs": [],
   "source": [
    "import pandas as pd\n",
    "\n",
    "ratings = pd.read_csv('ml-1m/ratings.dat', delimiter='::', engines='python', names=['userId', 'movieId', 'rating', 'timestamp'])\n",
    "users = pd.read_csv('ml-1m/users.dat', delimiter='::', engine='python', names=['userId', 'gender', 'age', 'occupation', 'zip-code'])\n",
    "movies = pd.read_csv('ml-1m/movies.dat', delimiter='::', engine='python', names=['movieId', 'title', 'genres'], encoding='ISO-8859-1')"
   ]
  },
  {
   "cell_type": "code",
   "execution_count": 3,
   "metadata": {},
   "outputs": [],
   "source": [
    "from sklearn.model_selection import train_test_split\n",
    "\n",
    "train_ratings, test_ratings = train_test_split(\n",
    "    ratings, test_size=0.15, random_state=21\n",
    ")"
   ]
  },
  {
   "cell_type": "code",
   "execution_count": 32,
   "metadata": {},
   "outputs": [
    {
     "data": {
      "text/html": [
       "<div>\n",
       "<style scoped>\n",
       "    .dataframe tbody tr th:only-of-type {\n",
       "        vertical-align: middle;\n",
       "    }\n",
       "\n",
       "    .dataframe tbody tr th {\n",
       "        vertical-align: top;\n",
       "    }\n",
       "\n",
       "    .dataframe thead th {\n",
       "        text-align: right;\n",
       "    }\n",
       "</style>\n",
       "<table border=\"1\" class=\"dataframe\">\n",
       "  <thead>\n",
       "    <tr style=\"text-align: right;\">\n",
       "      <th></th>\n",
       "      <th>userId</th>\n",
       "      <th>movieId</th>\n",
       "      <th>rating</th>\n",
       "      <th>timestamp</th>\n",
       "    </tr>\n",
       "  </thead>\n",
       "  <tbody>\n",
       "    <tr>\n",
       "      <th>139957</th>\n",
       "      <td>897</td>\n",
       "      <td>1357</td>\n",
       "      <td>4</td>\n",
       "      <td>975222483</td>\n",
       "    </tr>\n",
       "    <tr>\n",
       "      <th>86052</th>\n",
       "      <td>563</td>\n",
       "      <td>2643</td>\n",
       "      <td>1</td>\n",
       "      <td>976046791</td>\n",
       "    </tr>\n",
       "    <tr>\n",
       "      <th>383739</th>\n",
       "      <td>2242</td>\n",
       "      <td>3175</td>\n",
       "      <td>5</td>\n",
       "      <td>974596291</td>\n",
       "    </tr>\n",
       "    <tr>\n",
       "      <th>988025</th>\n",
       "      <td>5964</td>\n",
       "      <td>1449</td>\n",
       "      <td>4</td>\n",
       "      <td>956997834</td>\n",
       "    </tr>\n",
       "    <tr>\n",
       "      <th>806119</th>\n",
       "      <td>4824</td>\n",
       "      <td>300</td>\n",
       "      <td>4</td>\n",
       "      <td>962916212</td>\n",
       "    </tr>\n",
       "    <tr>\n",
       "      <th>...</th>\n",
       "      <td>...</td>\n",
       "      <td>...</td>\n",
       "      <td>...</td>\n",
       "      <td>...</td>\n",
       "    </tr>\n",
       "    <tr>\n",
       "      <th>81968</th>\n",
       "      <td>543</td>\n",
       "      <td>387</td>\n",
       "      <td>5</td>\n",
       "      <td>976121214</td>\n",
       "    </tr>\n",
       "    <tr>\n",
       "      <th>664324</th>\n",
       "      <td>3999</td>\n",
       "      <td>2002</td>\n",
       "      <td>5</td>\n",
       "      <td>965573381</td>\n",
       "    </tr>\n",
       "    <tr>\n",
       "      <th>202552</th>\n",
       "      <td>1244</td>\n",
       "      <td>2194</td>\n",
       "      <td>4</td>\n",
       "      <td>974831042</td>\n",
       "    </tr>\n",
       "    <tr>\n",
       "      <th>857295</th>\n",
       "      <td>5153</td>\n",
       "      <td>926</td>\n",
       "      <td>3</td>\n",
       "      <td>961970391</td>\n",
       "    </tr>\n",
       "    <tr>\n",
       "      <th>605129</th>\n",
       "      <td>3679</td>\n",
       "      <td>2288</td>\n",
       "      <td>4</td>\n",
       "      <td>976298848</td>\n",
       "    </tr>\n",
       "  </tbody>\n",
       "</table>\n",
       "<p>850177 rows × 4 columns</p>\n",
       "</div>"
      ],
      "text/plain": [
       "        userId  movieId  rating  timestamp\n",
       "139957     897     1357       4  975222483\n",
       "86052      563     2643       1  976046791\n",
       "383739    2242     3175       5  974596291\n",
       "988025    5964     1449       4  956997834\n",
       "806119    4824      300       4  962916212\n",
       "...        ...      ...     ...        ...\n",
       "81968      543      387       5  976121214\n",
       "664324    3999     2002       5  965573381\n",
       "202552    1244     2194       4  974831042\n",
       "857295    5153      926       3  961970391\n",
       "605129    3679     2288       4  976298848\n",
       "\n",
       "[850177 rows x 4 columns]"
      ]
     },
     "execution_count": 32,
     "metadata": {},
     "output_type": "execute_result"
    }
   ],
   "source": [
    "train_ratings"
   ]
  },
  {
   "cell_type": "code",
   "execution_count": 4,
   "metadata": {},
   "outputs": [
    {
     "name": "stdout",
     "output_type": "stream",
     "text": [
      "There are 6019 users in test set.\n",
      "Total number of users: 6040\n"
     ]
    }
   ],
   "source": [
    "users_in_validation = test_ratings[\"userId\"].unique()\n",
    "all_users = users[\"userId\"].unique()\n",
    "\n",
    "print(f\"There are {len(users_in_validation)} users in test set.\")\n",
    "print(f\"Total number of users: {len(all_users)}\")"
   ]
  },
  {
   "cell_type": "code",
   "execution_count": 5,
   "metadata": {},
   "outputs": [],
   "source": [
    "movie_index_by_id = {id: i for i, id in enumerate(movies[\"movieId\"])}"
   ]
  },
  {
   "cell_type": "code",
   "execution_count": 6,
   "metadata": {},
   "outputs": [],
   "source": [
    "genres = [\n",
    "    \"Action\",\n",
    "    \"Adventure\",\n",
    "    \"Animation\",\n",
    "    \"Children's\",\n",
    "    \"Comedy\",\n",
    "    \"Crime\",\n",
    "    \"Documentary\",\n",
    "    \"Drama\",\n",
    "    \"Fantasy\",\n",
    "    \"Film-Noir\",\n",
    "    \"Horror\",\n",
    "    \"Musical\",\n",
    "    \"Mystery\",\n",
    "    \"Romance\",\n",
    "    \"Sci-Fi\",\n",
    "    \"Thriller\",\n",
    "    \"War\",\n",
    "    \"Western\",\n",
    "]\n",
    "genre_index_by_name = {name:i for i, name in enumerate(genres)}\n",
    "\n",
    "import numpy as np\n",
    "# build binary array for movie genres\n",
    "movie_features = np.zeros((len(movies), len(genres)))\n",
    "for i, movie_genres in enumerate(movies[\"genres\"]):\n",
    "    for genre in movie_genres.split(\"|\"):        \n",
    "        genre_index = genre_index_by_name[genre]\n",
    "        movie_features[i, genre_index] = 1"
   ]
  },
  {
   "cell_type": "code",
   "execution_count": 7,
   "metadata": {},
   "outputs": [
    {
     "data": {
      "text/plain": [
       "3883"
      ]
     },
     "execution_count": 7,
     "metadata": {},
     "output_type": "execute_result"
    }
   ],
   "source": [
    "len(movie_index_by_id)"
   ]
  },
  {
   "cell_type": "code",
   "execution_count": 8,
   "metadata": {},
   "outputs": [
    {
     "data": {
      "text/plain": [
       "array([0., 0., 1., 1., 1., 0., 0., 0., 0., 0., 0., 0., 0., 0., 0., 0., 0.,\n",
       "       0.])"
      ]
     },
     "execution_count": 8,
     "metadata": {},
     "output_type": "execute_result"
    }
   ],
   "source": [
    "movie_features[0]"
   ]
  },
  {
   "cell_type": "markdown",
   "metadata": {},
   "source": [
    "## Model\n",
    "\n",
    "Ridge Regression works well when all features contribute a bit to the output, while Lasso is preferred when you believe that only a subset of features are important."
   ]
  },
  {
   "cell_type": "code",
   "execution_count": 9,
   "metadata": {},
   "outputs": [],
   "source": [
    "from sklearn.linear_model import Ridge\n",
    "\n",
    "\n",
    "def train_user_model(user_id):\n",
    "    user_ratings = train_ratings[train_ratings[\"userId\"] == user_id]\n",
    "    movie_indexes = [\n",
    "        movie_index_by_id[movie_id] for movie_id in user_ratings[\"movieId\"]\n",
    "    ]\n",
    "    train_data = movie_features[movie_indexes]  # take genre of movie has rating\n",
    "    train_label = user_ratings[\"rating\"] # rating of that person\n",
    "    model = Ridge(alpha=0.1)\n",
    "    model.fit(train_data, train_label)\n",
    "    return model\n",
    "\n",
    "\n",
    "# build model for each user\n",
    "user_model_dict = {}\n",
    "for user_id in users[\"userId\"].unique():\n",
    "    user_model_dict[user_id] = train_user_model(user_id)"
   ]
  },
  {
   "cell_type": "code",
   "execution_count": 28,
   "metadata": {},
   "outputs": [],
   "source": [
    "def predict(user_id, movie_id):\n",
    "    movie_feature = movie_features[movie_index_by_id[movie_id]].reshape((1, -1))\n",
    "    pred = user_model_dict[user_id].predict(movie_feature)\n",
    "    pred = pred.item()  \n",
    "    \n",
    "    return min(max(pred, 1), 5)"
   ]
  },
  {
   "cell_type": "code",
   "execution_count": 34,
   "metadata": {},
   "outputs": [
    {
     "name": "stdout",
     "output_type": "stream",
     "text": [
      "RMSE train: 0.9269734276303346\n",
      "RMSE validation: 1.045546918972278\n"
     ]
    }
   ],
   "source": [
    "from sklearn.metrics import root_mean_squared_error\n",
    "\n",
    "def eval_rmse(ratings):\n",
    "    predictions = np.zeros(len(ratings))\n",
    "    for index, row in enumerate(ratings.itertuples(index=False)):\n",
    "        predictions[index] = predict(row[0], row[1])\n",
    "    rmse = root_mean_squared_error(ratings[\"rating\"], predictions)\n",
    "    return float(rmse)\n",
    "    \n",
    "print(f\"RMSE train: {eval_rmse(train_ratings)}\")\n",
    "print(f\"RMSE validation: {eval_rmse(test_ratings)}\")"
   ]
  },
  {
   "cell_type": "code",
   "execution_count": 35,
   "metadata": {},
   "outputs": [
    {
     "name": "stdout",
     "output_type": "stream",
     "text": [
      "Action         : 0.563\n",
      "Adventure      : -0.374\n",
      "Animation      : -0.219\n",
      "Children's     : 0.310\n",
      "Comedy         : 0.347\n",
      "Crime          : -0.062\n",
      "Documentary    : 0.000\n",
      "Drama          : 0.621\n",
      "Fantasy        : -0.989\n",
      "Film-Noir      : 0.000\n",
      "Horror         : 0.000\n",
      "Musical        : 0.152\n",
      "Mystery        : 0.000\n",
      "Romance        : -0.773\n",
      "Sci-Fi         : 0.763\n",
      "Thriller       : -0.269\n",
      "War            : 0.364\n",
      "Western        : 0.000\n"
     ]
    }
   ],
   "source": [
    "user_id = 1\n",
    "for genre, coef in zip(genres, user_model_dict[user_id].coef_):\n",
    "    print(\"{:15s}: {:.3f}\".format(genre, coef))"
   ]
  },
  {
   "cell_type": "code",
   "execution_count": 37,
   "metadata": {},
   "outputs": [
    {
     "data": {
      "text/plain": [
       "3.715134139612832"
      ]
     },
     "execution_count": 37,
     "metadata": {},
     "output_type": "execute_result"
    }
   ],
   "source": [
    "user_model_dict[user_id].intercept_.item() # this is b[i], bias"
   ]
  },
  {
   "cell_type": "markdown",
   "metadata": {},
   "source": [
    "These are some high scores, showing that we should recommend movies in these genres. For other users whose coefficients are randomly low but the system always avoid suggestions. This is clearly unreasonable because this is just a random value, the system never knows the user's interest in these movies."
   ]
  },
  {
   "cell_type": "code",
   "execution_count": null,
   "metadata": {},
   "outputs": [],
   "source": []
  }
 ],
 "metadata": {
  "kernelspec": {
   "display_name": "Python 3",
   "language": "python",
   "name": "python3"
  },
  "language_info": {
   "codemirror_mode": {
    "name": "ipython",
    "version": 3
   },
   "file_extension": ".py",
   "mimetype": "text/x-python",
   "name": "python",
   "nbconvert_exporter": "python",
   "pygments_lexer": "ipython3",
   "version": "3.11.9"
  }
 },
 "nbformat": 4,
 "nbformat_minor": 2
}
